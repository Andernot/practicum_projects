{
 "cells": [
  {
   "cell_type": "markdown",
   "metadata": {
    "toc": true
   },
   "source": [
    "<h1>Содержание<span class=\"tocSkip\"></span></h1>\n",
    "<div class=\"toc\"><ul class=\"toc-item\"><li><span><a href=\"#Подготовка\" data-toc-modified-id=\"Подготовка-1\"><span class=\"toc-item-num\">1&nbsp;&nbsp;</span>Подготовка</a></span><ul class=\"toc-item\"><li><span><a href=\"#Проведем-первичный-анализ-данных.\" data-toc-modified-id=\"Проведем-первичный-анализ-данных.-1.1\"><span class=\"toc-item-num\">1.1&nbsp;&nbsp;</span>Проведем первичный анализ данных.</a></span></li><li><span><a href=\"#Проведем-лемматизацию,-токенизацию-и-очистку-текстов-в-корпусе-текстов.\" data-toc-modified-id=\"Проведем-лемматизацию,-токенизацию-и-очистку-текстов-в-корпусе-текстов.-1.2\"><span class=\"toc-item-num\">1.2&nbsp;&nbsp;</span>Проведем лемматизацию, токенизацию и очистку текстов в корпусе текстов.</a></span></li><li><span><a href=\"#Разобъем-выборку-с-текстами-на-обучающую,-валидационную-и-тестовую-выборки.\" data-toc-modified-id=\"Разобъем-выборку-с-текстами-на-обучающую,-валидационную-и-тестовую-выборки.-1.3\"><span class=\"toc-item-num\">1.3&nbsp;&nbsp;</span>Разобъем выборку с текстами на обучающую, валидационную и тестовую выборки.</a></span></li><li><span><a href=\"#Произведем-векторизацию-текстов-для-каждой-из-выборок\" data-toc-modified-id=\"Произведем-векторизацию-текстов-для-каждой-из-выборок-1.4\"><span class=\"toc-item-num\">1.4&nbsp;&nbsp;</span>Произведем векторизацию текстов для каждой из выборок</a></span><ul class=\"toc-item\"><li><span><a href=\"#Векторизация-текста-с-оценкой-важности-слов\" data-toc-modified-id=\"Векторизация-текста-с-оценкой-важности-слов-1.4.1\"><span class=\"toc-item-num\">1.4.1&nbsp;&nbsp;</span>Векторизация текста с оценкой важности слов</a></span></li><li><span><a href=\"#Векторизация-текста-с-учетом-частотности-слов\" data-toc-modified-id=\"Векторизация-текста-с-учетом-частотности-слов-1.4.2\"><span class=\"toc-item-num\">1.4.2&nbsp;&nbsp;</span>Векторизация текста с учетом частотности слов</a></span></li></ul></li><li><span><a href=\"#Произведем-векторизацию-текстов-для-каждой-из-выборок,-исключая-из-текстов-стоп-слова-английского-языка.\" data-toc-modified-id=\"Произведем-векторизацию-текстов-для-каждой-из-выборок,-исключая-из-текстов-стоп-слова-английского-языка.-1.5\"><span class=\"toc-item-num\">1.5&nbsp;&nbsp;</span>Произведем векторизацию текстов для каждой из выборок, исключая из текстов стоп-слова английского языка.</a></span><ul class=\"toc-item\"><li><span><a href=\"#Определим-стоп-слова.\" data-toc-modified-id=\"Определим-стоп-слова.-1.5.1\"><span class=\"toc-item-num\">1.5.1&nbsp;&nbsp;</span>Определим стоп-слова.</a></span></li><li><span><a href=\"#Векторизация-текста-с-оценкой-важности-слов\" data-toc-modified-id=\"Векторизация-текста-с-оценкой-важности-слов-1.5.2\"><span class=\"toc-item-num\">1.5.2&nbsp;&nbsp;</span>Векторизация текста с оценкой важности слов</a></span></li><li><span><a href=\"#Векторизация-текста-с-учетом-частотности-слов\" data-toc-modified-id=\"Векторизация-текста-с-учетом-частотности-слов-1.5.3\"><span class=\"toc-item-num\">1.5.3&nbsp;&nbsp;</span>Векторизация текста с учетом частотности слов</a></span></li></ul></li></ul></li><li><span><a href=\"#Обучение\" data-toc-modified-id=\"Обучение-2\"><span class=\"toc-item-num\">2&nbsp;&nbsp;</span>Обучение</a></span><ul class=\"toc-item\"><li><span><a href=\"#Обучим-на-получившихся-признаках-модель-логистической-регрессии-(со-стоп-словами)\" data-toc-modified-id=\"Обучим-на-получившихся-признаках-модель-логистической-регрессии-(со-стоп-словами)-2.1\"><span class=\"toc-item-num\">2.1&nbsp;&nbsp;</span>Обучим на получившихся признаках модель логистической регрессии (со стоп-словами)</a></span></li><li><span><a href=\"#Обучим-на-получившихся-признаках-модель-логистической-регрессии-(без-стоп-слов)\" data-toc-modified-id=\"Обучим-на-получившихся-признаках-модель-логистической-регрессии-(без-стоп-слов)-2.2\"><span class=\"toc-item-num\">2.2&nbsp;&nbsp;</span>Обучим на получившихся признаках модель логистической регрессии (без стоп-слов)</a></span></li><li><span><a href=\"#Обучим-на--текстах,-векторизованных-с-учетом-частотности-слов,-модель-случайного-леса-(без-стоп-слов)\" data-toc-modified-id=\"Обучим-на--текстах,-векторизованных-с-учетом-частотности-слов,-модель-случайного-леса-(без-стоп-слов)-2.3\"><span class=\"toc-item-num\">2.3&nbsp;&nbsp;</span>Обучим на  текстах, векторизованных с учетом частотности слов, модель случайного леса (без стоп-слов)</a></span></li><li><span><a href=\"#Обучим-на-текстах,-векторизованных-с-учетом-оценки-важности-слов,-модель-случайного-леса-(без-стоп-слов)\" data-toc-modified-id=\"Обучим-на-текстах,-векторизованных-с-учетом-оценки-важности-слов,-модель-случайного-леса-(без-стоп-слов)-2.4\"><span class=\"toc-item-num\">2.4&nbsp;&nbsp;</span>Обучим на текстах, векторизованных с учетом оценки важности слов, модель случайного леса (без стоп-слов)</a></span></li><li><span><a href=\"#Проверим-на-адекватность-наши-модели,-сверясь-с-моделью-DummyClassifier.\" data-toc-modified-id=\"Проверим-на-адекватность-наши-модели,-сверясь-с-моделью-DummyClassifier.-2.5\"><span class=\"toc-item-num\">2.5&nbsp;&nbsp;</span>Проверим на адекватность наши модели, сверясь с моделью DummyClassifier.</a></span></li><li><span><a href=\"#Произведем-проверку-лучшей-модели-на-тестовой-выборке\" data-toc-modified-id=\"Произведем-проверку-лучшей-модели-на-тестовой-выборке-2.6\"><span class=\"toc-item-num\">2.6&nbsp;&nbsp;</span>Произведем проверку лучшей модели на тестовой выборке</a></span></li></ul></li><li><span><a href=\"#Выводы\" data-toc-modified-id=\"Выводы-3\"><span class=\"toc-item-num\">3&nbsp;&nbsp;</span>Выводы</a></span></li><li><span><a href=\"#Чек-лист-проверки\" data-toc-modified-id=\"Чек-лист-проверки-4\"><span class=\"toc-item-num\">4&nbsp;&nbsp;</span>Чек-лист проверки</a></span></li></ul></div>"
   ]
  },
  {
   "cell_type": "markdown",
   "metadata": {},
   "source": [
    "# Проект для «Викишоп»"
   ]
  },
  {
   "cell_type": "markdown",
   "metadata": {},
   "source": [
    "Интернет-магазин «Викишоп» запускает новый сервис. Теперь пользователи могут редактировать и дополнять описания товаров, как в вики-сообществах. То есть клиенты предлагают свои правки и комментируют изменения других. Магазину нужен инструмент, который будет искать токсичные комментарии и отправлять их на модерацию. \n",
    "\n",
    "Обучите модель классифицировать комментарии на позитивные и негативные. В вашем распоряжении набор данных с разметкой о токсичности правок.\n",
    "\n",
    "**Описание данных**\n",
    "\n",
    "Данные находятся в файле `toxic_comments.csv`. Столбец *text* в нём содержит текст комментария, а *toxic* — целевой признак."
   ]
  },
  {
   "cell_type": "markdown",
   "metadata": {},
   "source": [
    "Импортируем необходимые библиотеки:"
   ]
  },
  {
   "cell_type": "code",
   "execution_count": 5,
   "metadata": {},
   "outputs": [
    {
     "name": "stderr",
     "output_type": "stream",
     "text": [
      "[nltk_data] Downloading package stopwords to\n",
      "[nltk_data]     C:\\Users\\Andrey\\AppData\\Roaming\\nltk_data...\n",
      "[nltk_data]   Package stopwords is already up-to-date!\n",
      "[nltk_data] Downloading package averaged_perceptron_tagger to\n",
      "[nltk_data]     C:\\Users\\Andrey\\AppData\\Roaming\\nltk_data...\n",
      "[nltk_data]   Package averaged_perceptron_tagger is already up-to-\n",
      "[nltk_data]       date!\n"
     ]
    }
   ],
   "source": [
    "import pandas as pd\n",
    "import numpy as np\n",
    "import re\n",
    "\n",
    "from sklearn.feature_extraction.text import CountVectorizer, TfidfVectorizer\n",
    "from sklearn.linear_model import LogisticRegression\n",
    "from sklearn.model_selection import train_test_split\n",
    "from sklearn.metrics import f1_score\n",
    "from sklearn.dummy import DummyClassifier\n",
    "from sklearn.ensemble import RandomForestClassifier\n",
    "\n",
    "import nltk\n",
    "nltk.download('stopwords')\n",
    "from nltk.corpus import stopwords\n",
    "from nltk.stem import WordNetLemmatizer\n",
    "from nltk.tokenize import word_tokenize\n",
    "from nltk.corpus import wordnet\n",
    "from nltk.tag import pos_tag\n",
    "nltk.download('averaged_perceptron_tagger')\n",
    "\n",
    "from tqdm.notebook import tqdm"
   ]
  },
  {
   "cell_type": "markdown",
   "metadata": {},
   "source": [
    "## Подготовка"
   ]
  },
  {
   "cell_type": "markdown",
   "metadata": {},
   "source": [
    "### Проведем первичный анализ данных."
   ]
  },
  {
   "cell_type": "markdown",
   "metadata": {},
   "source": [
    "Загрузим датасет:"
   ]
  },
  {
   "cell_type": "code",
   "execution_count": 9,
   "metadata": {},
   "outputs": [],
   "source": [
    "df = pd.read_csv('../../downloads/toxic_comments.csv')"
   ]
  },
  {
   "cell_type": "code",
   "execution_count": 10,
   "metadata": {},
   "outputs": [],
   "source": [
    "def info_(data):\n",
    "    data.info()\n",
    "    return data.head(), data.shape"
   ]
  },
  {
   "cell_type": "code",
   "execution_count": 11,
   "metadata": {},
   "outputs": [
    {
     "name": "stdout",
     "output_type": "stream",
     "text": [
      "<class 'pandas.core.frame.DataFrame'>\n",
      "RangeIndex: 159292 entries, 0 to 159291\n",
      "Data columns (total 3 columns):\n",
      " #   Column      Non-Null Count   Dtype \n",
      "---  ------      --------------   ----- \n",
      " 0   Unnamed: 0  159292 non-null  int64 \n",
      " 1   text        159292 non-null  object\n",
      " 2   toxic       159292 non-null  int64 \n",
      "dtypes: int64(2), object(1)\n",
      "memory usage: 3.6+ MB\n"
     ]
    },
    {
     "data": {
      "text/plain": [
       "(   Unnamed: 0                                               text  toxic\n",
       " 0           0  Explanation\\nWhy the edits made under my usern...      0\n",
       " 1           1  D'aww! He matches this background colour I'm s...      0\n",
       " 2           2  Hey man, I'm really not trying to edit war. It...      0\n",
       " 3           3  \"\\nMore\\nI can't make any real suggestions on ...      0\n",
       " 4           4  You, sir, are my hero. Any chance you remember...      0,\n",
       " (159292, 3))"
      ]
     },
     "execution_count": 11,
     "metadata": {},
     "output_type": "execute_result"
    }
   ],
   "source": [
    "info_(df)"
   ]
  },
  {
   "cell_type": "markdown",
   "metadata": {},
   "source": [
    "Удалим столбец `Unnamed: 0` т. к. он нам не пригодится в проекте."
   ]
  },
  {
   "cell_type": "code",
   "execution_count": 13,
   "metadata": {},
   "outputs": [],
   "source": [
    "df = df.drop('Unnamed: 0', axis = 1)"
   ]
  },
  {
   "cell_type": "markdown",
   "metadata": {},
   "source": [
    "Посмотрим на частотность целевого признака."
   ]
  },
  {
   "cell_type": "code",
   "execution_count": 15,
   "metadata": {},
   "outputs": [
    {
     "data": {
      "text/plain": [
       "toxic\n",
       "0    143106\n",
       "1     16186\n",
       "Name: count, dtype: int64"
      ]
     },
     "execution_count": 15,
     "metadata": {},
     "output_type": "execute_result"
    }
   ],
   "source": [
    "df['toxic'].value_counts()"
   ]
  },
  {
   "cell_type": "markdown",
   "metadata": {},
   "source": [
    "Значения целевого признака в выборке не сбалансированы. "
   ]
  },
  {
   "cell_type": "markdown",
   "metadata": {},
   "source": [
    "### Проведем лемматизацию, токенизацию и очистку текстов в корпусе текстов."
   ]
  },
  {
   "cell_type": "markdown",
   "metadata": {},
   "source": [
    "Напишем для этого функции."
   ]
  },
  {
   "cell_type": "code",
   "execution_count": 19,
   "metadata": {},
   "outputs": [],
   "source": [
    "def clear_text(corpus):\n",
    "    corpus = re.sub(r\"[^a-zA-Z!?\\s*']\", ' ', corpus)\n",
    "    corpus = corpus.split()\n",
    "    corpus = ' '.join(corpus)\n",
    "    return corpus"
   ]
  },
  {
   "cell_type": "code",
   "execution_count": 20,
   "metadata": {},
   "outputs": [],
   "source": [
    "wnl = WordNetLemmatizer()\n",
    "\n",
    "def get_tag(postag):\n",
    "    morphy_tag = {'NN':'n', 'JJ':'a',\n",
    "                  'VB':'v', 'RB':'r'}\n",
    "    try:\n",
    "        return morphy_tag[postag[:2]]\n",
    "    except:\n",
    "        return 'n' \n",
    "\n",
    "def lemmafunction(text):\n",
    "    text = [wnl.lemmatize(word.lower(), pos=get_tag(tag)) \n",
    "            for word, tag in pos_tag(word_tokenize(text))]\n",
    "    text = ' '.join(text)\n",
    "    \n",
    "    return text\n"
   ]
  },
  {
   "cell_type": "code",
   "execution_count": 21,
   "metadata": {},
   "outputs": [],
   "source": [
    "tqdm.pandas()"
   ]
  },
  {
   "cell_type": "code",
   "execution_count": 22,
   "metadata": {},
   "outputs": [
    {
     "data": {
      "application/vnd.jupyter.widget-view+json": {
       "model_id": "eef13baab4384498b84e987e8a9d36db",
       "version_major": 2,
       "version_minor": 0
      },
      "text/plain": [
       "  0%|          | 0/159292 [00:00<?, ?it/s]"
      ]
     },
     "metadata": {},
     "output_type": "display_data"
    }
   ],
   "source": [
    "df['lemm_text'] = df['text'].progress_apply(clear_text)"
   ]
  },
  {
   "cell_type": "code",
   "execution_count": 23,
   "metadata": {},
   "outputs": [
    {
     "data": {
      "application/vnd.jupyter.widget-view+json": {
       "model_id": "baf1f5276ad4459c8caac5979675f4c6",
       "version_major": 2,
       "version_minor": 0
      },
      "text/plain": [
       "  0%|          | 0/159292 [00:00<?, ?it/s]"
      ]
     },
     "metadata": {},
     "output_type": "display_data"
    }
   ],
   "source": [
    "df['lemm_text'] = df['lemm_text'].progress_apply(lemmafunction)"
   ]
  },
  {
   "cell_type": "code",
   "execution_count": 24,
   "metadata": {},
   "outputs": [
    {
     "data": {
      "text/html": [
       "<div>\n",
       "<style scoped>\n",
       "    .dataframe tbody tr th:only-of-type {\n",
       "        vertical-align: middle;\n",
       "    }\n",
       "\n",
       "    .dataframe tbody tr th {\n",
       "        vertical-align: top;\n",
       "    }\n",
       "\n",
       "    .dataframe thead th {\n",
       "        text-align: right;\n",
       "    }\n",
       "</style>\n",
       "<table border=\"1\" class=\"dataframe\">\n",
       "  <thead>\n",
       "    <tr style=\"text-align: right;\">\n",
       "      <th></th>\n",
       "      <th>text</th>\n",
       "      <th>toxic</th>\n",
       "      <th>lemm_text</th>\n",
       "    </tr>\n",
       "  </thead>\n",
       "  <tbody>\n",
       "    <tr>\n",
       "      <th>0</th>\n",
       "      <td>Explanation\\nWhy the edits made under my usern...</td>\n",
       "      <td>0</td>\n",
       "      <td>explanation why the edits make under my userna...</td>\n",
       "    </tr>\n",
       "    <tr>\n",
       "      <th>1</th>\n",
       "      <td>D'aww! He matches this background colour I'm s...</td>\n",
       "      <td>0</td>\n",
       "      <td>d'aww ! he match this background colour i 'm s...</td>\n",
       "    </tr>\n",
       "    <tr>\n",
       "      <th>2</th>\n",
       "      <td>Hey man, I'm really not trying to edit war. It...</td>\n",
       "      <td>0</td>\n",
       "      <td>hey man i 'm really not try to edit war it 's ...</td>\n",
       "    </tr>\n",
       "    <tr>\n",
       "      <th>3</th>\n",
       "      <td>\"\\nMore\\nI can't make any real suggestions on ...</td>\n",
       "      <td>0</td>\n",
       "      <td>more i ca n't make any real suggestion on impr...</td>\n",
       "    </tr>\n",
       "    <tr>\n",
       "      <th>4</th>\n",
       "      <td>You, sir, are my hero. Any chance you remember...</td>\n",
       "      <td>0</td>\n",
       "      <td>you sir be my hero any chance you remember wha...</td>\n",
       "    </tr>\n",
       "    <tr>\n",
       "      <th>5</th>\n",
       "      <td>\"\\n\\nCongratulations from me as well, use the ...</td>\n",
       "      <td>0</td>\n",
       "      <td>congratulation from me a well use the tool wel...</td>\n",
       "    </tr>\n",
       "    <tr>\n",
       "      <th>6</th>\n",
       "      <td>COCKSUCKER BEFORE YOU PISS AROUND ON MY WORK</td>\n",
       "      <td>1</td>\n",
       "      <td>cocksucker before you piss around on my work</td>\n",
       "    </tr>\n",
       "    <tr>\n",
       "      <th>7</th>\n",
       "      <td>Your vandalism to the Matt Shirvington article...</td>\n",
       "      <td>0</td>\n",
       "      <td>your vandalism to the matt shirvington article...</td>\n",
       "    </tr>\n",
       "    <tr>\n",
       "      <th>8</th>\n",
       "      <td>Sorry if the word 'nonsense' was offensive to ...</td>\n",
       "      <td>0</td>\n",
       "      <td>sorry if the word 'nonsense ' be offensive to ...</td>\n",
       "    </tr>\n",
       "    <tr>\n",
       "      <th>9</th>\n",
       "      <td>alignment on this subject and which are contra...</td>\n",
       "      <td>0</td>\n",
       "      <td>alignment on this subject and which be contrar...</td>\n",
       "    </tr>\n",
       "    <tr>\n",
       "      <th>10</th>\n",
       "      <td>\"\\nFair use rationale for Image:Wonju.jpg\\n\\nT...</td>\n",
       "      <td>0</td>\n",
       "      <td>fair use rationale for image wonju jpg thanks ...</td>\n",
       "    </tr>\n",
       "    <tr>\n",
       "      <th>11</th>\n",
       "      <td>bbq \\n\\nbe a man and lets discuss it-maybe ove...</td>\n",
       "      <td>0</td>\n",
       "      <td>bbq be a man and let discuss it maybe over the...</td>\n",
       "    </tr>\n",
       "    <tr>\n",
       "      <th>12</th>\n",
       "      <td>Hey... what is it..\\n@ | talk .\\nWhat is it......</td>\n",
       "      <td>1</td>\n",
       "      <td>hey what be it talk what be it an exclusive gr...</td>\n",
       "    </tr>\n",
       "    <tr>\n",
       "      <th>13</th>\n",
       "      <td>Before you start throwing accusations and warn...</td>\n",
       "      <td>0</td>\n",
       "      <td>before you start throw accusation and warning ...</td>\n",
       "    </tr>\n",
       "    <tr>\n",
       "      <th>14</th>\n",
       "      <td>Oh, and the girl above started her arguments w...</td>\n",
       "      <td>0</td>\n",
       "      <td>oh and the girl above start her argument with ...</td>\n",
       "    </tr>\n",
       "  </tbody>\n",
       "</table>\n",
       "</div>"
      ],
      "text/plain": [
       "                                                 text  toxic  \\\n",
       "0   Explanation\\nWhy the edits made under my usern...      0   \n",
       "1   D'aww! He matches this background colour I'm s...      0   \n",
       "2   Hey man, I'm really not trying to edit war. It...      0   \n",
       "3   \"\\nMore\\nI can't make any real suggestions on ...      0   \n",
       "4   You, sir, are my hero. Any chance you remember...      0   \n",
       "5   \"\\n\\nCongratulations from me as well, use the ...      0   \n",
       "6        COCKSUCKER BEFORE YOU PISS AROUND ON MY WORK      1   \n",
       "7   Your vandalism to the Matt Shirvington article...      0   \n",
       "8   Sorry if the word 'nonsense' was offensive to ...      0   \n",
       "9   alignment on this subject and which are contra...      0   \n",
       "10  \"\\nFair use rationale for Image:Wonju.jpg\\n\\nT...      0   \n",
       "11  bbq \\n\\nbe a man and lets discuss it-maybe ove...      0   \n",
       "12  Hey... what is it..\\n@ | talk .\\nWhat is it......      1   \n",
       "13  Before you start throwing accusations and warn...      0   \n",
       "14  Oh, and the girl above started her arguments w...      0   \n",
       "\n",
       "                                            lemm_text  \n",
       "0   explanation why the edits make under my userna...  \n",
       "1   d'aww ! he match this background colour i 'm s...  \n",
       "2   hey man i 'm really not try to edit war it 's ...  \n",
       "3   more i ca n't make any real suggestion on impr...  \n",
       "4   you sir be my hero any chance you remember wha...  \n",
       "5   congratulation from me a well use the tool wel...  \n",
       "6        cocksucker before you piss around on my work  \n",
       "7   your vandalism to the matt shirvington article...  \n",
       "8   sorry if the word 'nonsense ' be offensive to ...  \n",
       "9   alignment on this subject and which be contrar...  \n",
       "10  fair use rationale for image wonju jpg thanks ...  \n",
       "11  bbq be a man and let discuss it maybe over the...  \n",
       "12  hey what be it talk what be it an exclusive gr...  \n",
       "13  before you start throw accusation and warning ...  \n",
       "14  oh and the girl above start her argument with ...  "
      ]
     },
     "execution_count": 24,
     "metadata": {},
     "output_type": "execute_result"
    }
   ],
   "source": [
    "df.head(15)"
   ]
  },
  {
   "cell_type": "code",
   "execution_count": 25,
   "metadata": {},
   "outputs": [
    {
     "data": {
      "text/plain": [
       "'\"\\n\\nJuelz Santanas Age\\n\\nIn 2002, Juelz Santana was 18 years old, then came February 18th, which makes Juelz turn 19 making songs with The Diplomats. The third neff to be signed to Cam\\'s label under Roc A Fella. In 2003, he was 20 years old coming out with his own singles \"\"Santana\\'s Town\"\" and \"\"Down\"\". So yes, he is born in 1983. He really is, how could he be older then Lloyd Banks? And how could he be 22 when his birthday passed? The homie neff is 23 years old. 1983 - 2006 (Juelz death, god forbid if your thinking about that) equals 23. Go to your caculator and stop changing his year of birth. My god.\"'"
      ]
     },
     "execution_count": 25,
     "metadata": {},
     "output_type": "execute_result"
    }
   ],
   "source": [
    "df['text'][15]"
   ]
  },
  {
   "cell_type": "code",
   "execution_count": 26,
   "metadata": {},
   "outputs": [
    {
     "data": {
      "text/plain": [
       "\"juelz santanas age in juelz santana be year old then come february th which make juelz turn make song with the diplomat the third neff to be sign to cam 's label under roc a fella in he be year old come out with his own single santana 's town and down so yes he be bear in he really be how could he be old then lloyd bank ? and how could he be when his birthday pass ? the homie neff be year old juelz death god forbid if your think about that equal go to your caculator and stop change his year of birth my god\""
      ]
     },
     "execution_count": 26,
     "metadata": {},
     "output_type": "execute_result"
    }
   ],
   "source": [
    "df['lemm_text'][15]"
   ]
  },
  {
   "cell_type": "code",
   "execution_count": 27,
   "metadata": {},
   "outputs": [],
   "source": [
    "features = df['lemm_text']\n",
    "targets = df['toxic']"
   ]
  },
  {
   "cell_type": "markdown",
   "metadata": {},
   "source": [
    "### Разобъем выборку с текстами на обучающую, валидационную и тестовую выборки."
   ]
  },
  {
   "cell_type": "code",
   "execution_count": 29,
   "metadata": {},
   "outputs": [],
   "source": [
    "features_train, features_valid1, targets_train, targets_valid1 = train_test_split(\n",
    "    features, targets, test_size=0.2, random_state=12)"
   ]
  },
  {
   "cell_type": "code",
   "execution_count": 30,
   "metadata": {},
   "outputs": [
    {
     "data": {
      "text/plain": [
       "((127433,), (127433,))"
      ]
     },
     "execution_count": 30,
     "metadata": {},
     "output_type": "execute_result"
    }
   ],
   "source": [
    "features_train.shape, targets_train.shape"
   ]
  },
  {
   "cell_type": "code",
   "execution_count": 31,
   "metadata": {},
   "outputs": [],
   "source": [
    "features_valid, features_test, targets_valid, targets_test = train_test_split(\n",
    "    features_valid1, targets_valid1, test_size=0.5, random_state=12)"
   ]
  },
  {
   "cell_type": "code",
   "execution_count": 32,
   "metadata": {},
   "outputs": [
    {
     "data": {
      "text/plain": [
       "((15929,), (15929,))"
      ]
     },
     "execution_count": 32,
     "metadata": {},
     "output_type": "execute_result"
    }
   ],
   "source": [
    "features_valid.shape, targets_valid.shape"
   ]
  },
  {
   "cell_type": "code",
   "execution_count": 33,
   "metadata": {},
   "outputs": [
    {
     "data": {
      "text/plain": [
       "((15930,), (15930,))"
      ]
     },
     "execution_count": 33,
     "metadata": {},
     "output_type": "execute_result"
    }
   ],
   "source": [
    "features_test.shape, targets_test.shape"
   ]
  },
  {
   "cell_type": "markdown",
   "metadata": {},
   "source": [
    "### Произведем векторизацию текстов для каждой из выборок"
   ]
  },
  {
   "cell_type": "code",
   "execution_count": 35,
   "metadata": {},
   "outputs": [],
   "source": [
    "stop_words = stopwords.words('english')"
   ]
  },
  {
   "cell_type": "code",
   "execution_count": 36,
   "metadata": {},
   "outputs": [],
   "source": [
    "# напишем функцию, которая проводит векторизацию корпуса текстов в зависимости от класса, используемого при извлечении признаков из текста\n",
    "# и возвращает обучающую, валидационную и тестовую выборки\n",
    "def vectorizer(features_train, features_valid, features_test, extraction_text):\n",
    "    extraction = extraction_text\n",
    "    trains = extraction.fit_transform(features_train)\n",
    "    valids = extraction.transform(features_valid)\n",
    "    tests = extraction.transform(features_test)\n",
    "    return trains, valids, tests"
   ]
  },
  {
   "cell_type": "markdown",
   "metadata": {},
   "source": [
    "#### Векторизация текста с оценкой важности слов"
   ]
  },
  {
   "cell_type": "code",
   "execution_count": 38,
   "metadata": {},
   "outputs": [],
   "source": [
    "# применим TfidfVectorizer() для векторизации корпуса текстов\n",
    "tf_idf_train, tf_idf_valid, tf_idf_test = vectorizer(features_train, features_valid, features_test, TfidfVectorizer())"
   ]
  },
  {
   "cell_type": "code",
   "execution_count": 39,
   "metadata": {},
   "outputs": [
    {
     "data": {
      "text/plain": [
       "((127433, 136648), (15929, 136648), (15930, 136648))"
      ]
     },
     "execution_count": 39,
     "metadata": {},
     "output_type": "execute_result"
    }
   ],
   "source": [
    "tf_idf_train.shape, tf_idf_valid.shape, tf_idf_test.shape"
   ]
  },
  {
   "cell_type": "code",
   "execution_count": 40,
   "metadata": {},
   "outputs": [],
   "source": [
    "# применим TfidfVectorizer(), исключая из текста стор-слова, для векторизации корпуса текстов\n",
    "sw_tf_idf_train, sw_tf_idf_valid, sw_tf_idf_test = vectorizer(features_train, features_valid, features_test,\n",
    "                                                              TfidfVectorizer(stop_words=stop_words))"
   ]
  },
  {
   "cell_type": "code",
   "execution_count": 41,
   "metadata": {},
   "outputs": [
    {
     "data": {
      "text/plain": [
       "((127433, 136505), (15929, 136505), (15930, 136505))"
      ]
     },
     "execution_count": 41,
     "metadata": {},
     "output_type": "execute_result"
    }
   ],
   "source": [
    "# видим, что из выборок удалилось около 150 признаков\n",
    "sw_tf_idf_train.shape, sw_tf_idf_valid.shape, sw_tf_idf_test.shape"
   ]
  },
  {
   "cell_type": "markdown",
   "metadata": {},
   "source": [
    "#### Векторизация текста с учетом частотности слов"
   ]
  },
  {
   "cell_type": "code",
   "execution_count": 43,
   "metadata": {},
   "outputs": [],
   "source": [
    "# применим CountVectorizer() для векторизации корпуса текстов\n",
    "cnt_train, cnt_valid, cnt_test = vectorizer(features_train, features_valid, features_test, CountVectorizer())"
   ]
  },
  {
   "cell_type": "code",
   "execution_count": 44,
   "metadata": {},
   "outputs": [
    {
     "data": {
      "text/plain": [
       "((127433, 136648), (15929, 136648), (15930, 136648))"
      ]
     },
     "execution_count": 44,
     "metadata": {},
     "output_type": "execute_result"
    }
   ],
   "source": [
    "cnt_train.shape, cnt_valid.shape, cnt_test.shape"
   ]
  },
  {
   "cell_type": "code",
   "execution_count": 45,
   "metadata": {},
   "outputs": [],
   "source": [
    "# применим CountVectorizer(), исключая из текста стор-слова, для векторизации корпуса текстов\n",
    "sw_cnt_train, sw_cnt_valid, sw_cnt_test = vectorizer(features_train, features_valid, features_test,\n",
    "                                                     CountVectorizer(stop_words=stop_words))"
   ]
  },
  {
   "cell_type": "code",
   "execution_count": 46,
   "metadata": {},
   "outputs": [
    {
     "data": {
      "text/plain": [
       "((127433, 136505), (15929, 136505), (15930, 136505))"
      ]
     },
     "execution_count": 46,
     "metadata": {},
     "output_type": "execute_result"
    }
   ],
   "source": [
    "sw_cnt_train.shape, sw_cnt_valid.shape, sw_cnt_test.shape"
   ]
  },
  {
   "cell_type": "markdown",
   "metadata": {},
   "source": [
    "## Обучение"
   ]
  },
  {
   "cell_type": "markdown",
   "metadata": {},
   "source": [
    "### Модели логистической регрессии"
   ]
  },
  {
   "cell_type": "code",
   "execution_count": 51,
   "metadata": {},
   "outputs": [],
   "source": [
    "# для обучения, предсказания и оценки модели логистической регрессии напишем функцию \n",
    "def Logreg_train_predict_score(features_train, features_valid, targets_train, targets_valid, description):\n",
    "    model = LogisticRegression(random_state=12, n_jobs=-1, class_weight='balanced', max_iter=1000)\n",
    "    model.fit(features_train, targets_train)\n",
    "    pred = model.predict(features_valid)\n",
    "    f1 = f1_score(targets_valid, pred)\n",
    "    return print(f'Значение f1_score на валидации для модели LogisticRegression \\\n",
    "({description}) равно: {round(f1, 3)}.')  "
   ]
  },
  {
   "cell_type": "code",
   "execution_count": 53,
   "metadata": {},
   "outputs": [
    {
     "name": "stdout",
     "output_type": "stream",
     "text": [
      "Значение f1_score на валидации для модели LogisticRegression (на признаках с учетом оценки важности слов (стоп-слова включены в признаки)) равно: 0.759.\n"
     ]
    }
   ],
   "source": [
    "# Обучим модель логистической регрессии на текстах, векторизованных с учетом оценки важности слов (стоп слова включены в признаки).\n",
    "Logreg_train_predict_score(tf_idf_train, tf_idf_valid, targets_train, \n",
    "                           targets_valid, 'на признаках с учетом оценки важности слов (стоп-слова включены в признаки)')"
   ]
  },
  {
   "cell_type": "code",
   "execution_count": 55,
   "metadata": {},
   "outputs": [
    {
     "name": "stdout",
     "output_type": "stream",
     "text": [
      "Значение f1_score на валидации для модели LogisticRegression (на признаках с учетом оценки важности слов (стоп-слова исключены из признаков)) равно: 0.753.\n"
     ]
    }
   ],
   "source": [
    "# Обучим модель логистической регрессии на текстах, векторизованных с учетом оценки важности слов (стоп-слова исключены из признаков).\n",
    "Logreg_train_predict_score(sw_tf_idf_train, sw_tf_idf_valid, targets_train, \n",
    "                           targets_valid, 'на признаках с учетом оценки важности слов (стоп-слова исключены из признаков)')"
   ]
  },
  {
   "cell_type": "code",
   "execution_count": 57,
   "metadata": {},
   "outputs": [
    {
     "name": "stdout",
     "output_type": "stream",
     "text": [
      "Значение f1_score на валидации для модели LogisticRegression (на признаках с учетом частотности слов (стоп-слова включены в признаки)) равно: 0.775.\n"
     ]
    }
   ],
   "source": [
    "# Обучим модель логистической регрессии на текстах, векторизованных с учетом частотности слов (стоп слова включены в признаки).\n",
    "Logreg_train_predict_score(cnt_train, cnt_valid, targets_train, \n",
    "                           targets_valid, 'на признаках с учетом частотности слов (стоп-слова включены в признаки)')"
   ]
  },
  {
   "cell_type": "code",
   "execution_count": 59,
   "metadata": {},
   "outputs": [
    {
     "name": "stdout",
     "output_type": "stream",
     "text": [
      "Значение f1_score на валидации для модели LogisticRegression (на признаках с учетом частотности слов (стоп-слова исключены из признаков)) равно: 0.766.\n"
     ]
    }
   ],
   "source": [
    "# Обучим модель логистической регрессии на текстах, векторизованных с учетом частотности слов (стоп-слова исключены из признаков).\n",
    "Logreg_train_predict_score(sw_cnt_train, sw_cnt_valid, targets_train, \n",
    "                           targets_valid, 'на признаках с учетом частотности слов (стоп-слова исключены из признаков)')"
   ]
  },
  {
   "cell_type": "markdown",
   "metadata": {},
   "source": [
    "### Модели случайного леса."
   ]
  },
  {
   "cell_type": "code",
   "execution_count": 62,
   "metadata": {},
   "outputs": [],
   "source": [
    "# для подбора гипперпараметров, обучения, предсказания и оценки модели случайного леса напишем функцию \n",
    "def Randfor_train_predict_score(features_train, features_valid, targets_train, targets_valid, description):\n",
    "    print(f'{description}')\n",
    "    best_est=0\n",
    "    best_depth=0\n",
    "    good_f1 = 0\n",
    "\n",
    "    for est in range(1, 51, 10):\n",
    "        for depth in range(1, 31, 10):\n",
    "            model_rf = RandomForestClassifier(\n",
    "                random_state=12, max_depth=depth, n_estimators=est, n_jobs=-1, class_weight='balanced')\n",
    "            model_rf.fit(features_train, targets_train)\n",
    "            pred = model_rf.predict(features_valid)\n",
    "            f1 = f1_score(targets_valid, pred)\n",
    "            if f1 > good_f1:\n",
    "                best_est = est\n",
    "                best_depth = depth\n",
    "                good_f1 = f1  \n",
    "    return print(f'Значение f1_score на валидации для модели случайного леса равно: {round(good_f1, 3)}.' + '\\n' + \n",
    "                 f'Значение глубины дерева для модели случайного леса равно: {best_depth}.' + '\\n' + \n",
    "                 f'Значение количества деревьев для модели случайного леса равно: {best_est}.')"
   ]
  },
  {
   "cell_type": "code",
   "execution_count": 64,
   "metadata": {},
   "outputs": [
    {
     "name": "stdout",
     "output_type": "stream",
     "text": [
      "Обучим на текстах, векторизованных с учетом частотности слов, модель случайного леса (стоп слова включены в признаки)...\n",
      "Значение f1_score на валидации для модели случайного леса равно: 0.38.\n",
      "Значение глубины дерева для модели случайного леса равно: 21.\n",
      "Значение количества деревьев для модели случайного леса равно: 31.\n"
     ]
    }
   ],
   "source": [
    "# Обучим модель случайного леса на текстах, векторизованных с учетом частотности слов (стоп слова включены в признаки).\n",
    "description = 'Обучим на текстах, векторизованных с учетом частотности слов, модель случайного леса (стоп слова включены в признаки)...'\n",
    "Randfor_train_predict_score(cnt_train, cnt_valid, targets_train, targets_valid, description)"
   ]
  },
  {
   "cell_type": "code",
   "execution_count": 66,
   "metadata": {},
   "outputs": [
    {
     "name": "stdout",
     "output_type": "stream",
     "text": [
      " Обучим на текстах, векторизованных с учетом оценки важности слов, модель случайного леса (стоп-слова включены в признаки)...\n",
      "Значение f1_score на валидации для модели случайного леса равно: 0.378.\n",
      "Значение глубины дерева для модели случайного леса равно: 21.\n",
      "Значение количества деревьев для модели случайного леса равно: 41.\n"
     ]
    }
   ],
   "source": [
    "# Обучим модель случайного леса на текстах, векторизованных с учетом оценки важности слов (стоп слова включены в признаки).\n",
    "description = ' Обучим на текстах, векторизованных с учетом оценки важности слов, модель случайного леса (стоп-слова включены в признаки)...'\n",
    "Randfor_train_predict_score(tf_idf_train, tf_idf_valid, targets_train, targets_valid, description)"
   ]
  },
  {
   "cell_type": "markdown",
   "metadata": {},
   "source": [
    "**Лучшее значение f1_score (0.775) на валидационной выборке показала модель LogisticRegression, которая обучалась на векторизованных текстах, учитывающих частотность слов и из которых не были удалены стоп-слова.**"
   ]
  },
  {
   "cell_type": "markdown",
   "metadata": {},
   "source": [
    "### Проверим на адекватность наши модели, сверясь с моделью DummyClassifier."
   ]
  },
  {
   "cell_type": "code",
   "execution_count": 68,
   "metadata": {},
   "outputs": [
    {
     "name": "stdout",
     "output_type": "stream",
     "text": [
      "Значение f1_score на валидации для модели DummyClassifier равно: 0.179.\n"
     ]
    }
   ],
   "source": [
    "model = DummyClassifier(random_state=12, strategy='uniform')\n",
    "model.fit(tf_idf_train, targets_train)\n",
    "pred = model.predict(tf_idf_valid)\n",
    "f1 = f1_score(targets_valid, pred)\n",
    "print((f'Значение f1_score на валидации для модели DummyClassifier равно: {round(f1, 3)}.'))"
   ]
  },
  {
   "cell_type": "markdown",
   "metadata": {},
   "source": [
    "На наших моделях метрика f1_score значительно выше."
   ]
  },
  {
   "cell_type": "markdown",
   "metadata": {},
   "source": [
    "### Проведем проверку лучшей модели на тестовой выборке"
   ]
  },
  {
   "cell_type": "code",
   "execution_count": 70,
   "metadata": {},
   "outputs": [
    {
     "name": "stdout",
     "output_type": "stream",
     "text": [
      "Значение f1_score на тестовой выборке лучшей модели LogisticRegression равно: 0.758.\n",
      "CPU times: total: 1.94 s\n",
      "Wall time: 1min 58s\n"
     ]
    }
   ],
   "source": [
    "%%time\n",
    "model = LogisticRegression(random_state=12, n_jobs=-1, class_weight='balanced', max_iter=1000)\n",
    "model.fit(cnt_train, targets_train)\n",
    "pred = model.predict(cnt_test)\n",
    "f1 = f1_score(targets_test, pred)\n",
    "print(f'Значение f1_score на тестовой выборке \\\n",
    "лучшей модели LogisticRegression равно: {round(f1, 3)}.')"
   ]
  },
  {
   "cell_type": "markdown",
   "metadata": {},
   "source": [
    "## Выводы"
   ]
  },
  {
   "cell_type": "markdown",
   "metadata": {},
   "source": [
    "**В рамках предобработки текста было проведено следущее:**\n",
    "\n",
    "- лемматизация слов;\n",
    "\n",
    "- при очистке корпуса, в текстах были оставлены только английские буквы, знаки вопроса и восклицания, одинарная кавычка;\n",
    "\n",
    "- была произведена векторизация текстов корпуса с учетом частотности слов и с учетом оценки важности слов.\n",
    "\n",
    "**В рамках обучения моделей была исследована зависимость  метрики f1_score от следующих признаков:**\n",
    "\n",
    "- векторизированные текста корпуса с учетом частотности слов и с удалением из них стоп-слов;\n",
    "\n",
    "- векторизированные текста корпуса с учетом частотности слов и без удаления из них стоп-слов;\n",
    "\n",
    "- векторизированные текста корпуса, учитывающие оценку важности слов и с удалением из них стоп-слов;\n",
    "\n",
    "- векторизированные текста корпуса, учитывающие оценку важности слов и без удаления из них стоп-слов.\n",
    "\n",
    "**В целом модели логистической регрессии для классификации данных с большим количеством признаков показали себя лучше, чем модели случайного леса.** \n",
    "\n",
    "**Для сбалансированности целевых классов в каждой модели использовался гипперпараметр class_weight='balanced'.**\n",
    "\n",
    "**Лучшее значение f1_score (0.758) на тестовой выборке показала модель LogisticRegression с гипперпараметрами (max_iter=1000, class_weight='balanced'), которая обучалась на векторизованных текстах, учитывающих частотность слов и из которых не были удалены стоп-слова.**"
   ]
  }
 ],
 "metadata": {
  "ExecuteTimeLog": [
   {
    "duration": 1656,
    "start_time": "2024-06-01T12:27:29.519Z"
   },
   {
    "duration": 148,
    "start_time": "2024-06-01T12:27:31.177Z"
   },
   {
    "duration": 0,
    "start_time": "2024-06-01T12:27:31.328Z"
   },
   {
    "duration": 0,
    "start_time": "2024-06-01T12:27:31.329Z"
   },
   {
    "duration": 0,
    "start_time": "2024-06-01T12:27:31.330Z"
   },
   {
    "duration": 0,
    "start_time": "2024-06-01T12:27:31.331Z"
   },
   {
    "duration": 0,
    "start_time": "2024-06-01T12:27:31.332Z"
   },
   {
    "duration": 0,
    "start_time": "2024-06-01T12:27:31.334Z"
   },
   {
    "duration": 0,
    "start_time": "2024-06-01T12:27:31.335Z"
   },
   {
    "duration": 0,
    "start_time": "2024-06-01T12:27:31.336Z"
   },
   {
    "duration": 0,
    "start_time": "2024-06-01T12:27:31.337Z"
   },
   {
    "duration": 0,
    "start_time": "2024-06-01T12:27:31.338Z"
   },
   {
    "duration": 0,
    "start_time": "2024-06-01T12:27:31.340Z"
   },
   {
    "duration": 0,
    "start_time": "2024-06-01T12:27:31.341Z"
   },
   {
    "duration": 0,
    "start_time": "2024-06-01T12:27:31.342Z"
   },
   {
    "duration": 0,
    "start_time": "2024-06-01T12:27:31.343Z"
   },
   {
    "duration": 0,
    "start_time": "2024-06-01T12:27:31.344Z"
   },
   {
    "duration": 0,
    "start_time": "2024-06-01T12:27:31.345Z"
   },
   {
    "duration": 0,
    "start_time": "2024-06-01T12:27:31.346Z"
   },
   {
    "duration": 0,
    "start_time": "2024-06-01T12:27:31.348Z"
   },
   {
    "duration": 0,
    "start_time": "2024-06-01T12:27:31.349Z"
   },
   {
    "duration": 0,
    "start_time": "2024-06-01T12:27:31.350Z"
   },
   {
    "duration": 0,
    "start_time": "2024-06-01T12:27:31.395Z"
   },
   {
    "duration": 0,
    "start_time": "2024-06-01T12:27:31.397Z"
   },
   {
    "duration": 0,
    "start_time": "2024-06-01T12:27:31.399Z"
   },
   {
    "duration": 0,
    "start_time": "2024-06-01T12:27:31.400Z"
   },
   {
    "duration": 0,
    "start_time": "2024-06-01T12:27:31.402Z"
   },
   {
    "duration": 0,
    "start_time": "2024-06-01T12:27:31.403Z"
   },
   {
    "duration": 0,
    "start_time": "2024-06-01T12:27:31.405Z"
   },
   {
    "duration": 0,
    "start_time": "2024-06-01T12:27:31.406Z"
   },
   {
    "duration": 0,
    "start_time": "2024-06-01T12:27:31.407Z"
   },
   {
    "duration": 0,
    "start_time": "2024-06-01T12:27:31.408Z"
   },
   {
    "duration": 0,
    "start_time": "2024-06-01T12:27:31.409Z"
   },
   {
    "duration": 0,
    "start_time": "2024-06-01T12:27:31.410Z"
   },
   {
    "duration": 0,
    "start_time": "2024-06-01T12:27:31.412Z"
   },
   {
    "duration": 0,
    "start_time": "2024-06-01T12:27:31.413Z"
   },
   {
    "duration": 0,
    "start_time": "2024-06-01T12:27:31.414Z"
   },
   {
    "duration": 0,
    "start_time": "2024-06-01T12:27:31.415Z"
   },
   {
    "duration": 0,
    "start_time": "2024-06-01T12:27:31.416Z"
   },
   {
    "duration": 0,
    "start_time": "2024-06-01T12:27:31.418Z"
   },
   {
    "duration": 0,
    "start_time": "2024-06-01T12:27:31.419Z"
   },
   {
    "duration": 1505,
    "start_time": "2024-06-01T12:29:07.141Z"
   },
   {
    "duration": 3287,
    "start_time": "2024-06-01T12:29:08.648Z"
   },
   {
    "duration": 3,
    "start_time": "2024-06-01T12:29:11.937Z"
   },
   {
    "duration": 48,
    "start_time": "2024-06-01T12:29:11.942Z"
   },
   {
    "duration": 10,
    "start_time": "2024-06-01T12:29:11.992Z"
   },
   {
    "duration": 14,
    "start_time": "2024-06-01T12:29:12.004Z"
   },
   {
    "duration": 3,
    "start_time": "2024-06-01T12:29:12.020Z"
   },
   {
    "duration": 45,
    "start_time": "2024-06-01T12:29:12.025Z"
   },
   {
    "duration": 0,
    "start_time": "2024-06-01T12:29:12.073Z"
   },
   {
    "duration": 0,
    "start_time": "2024-06-01T12:29:12.074Z"
   },
   {
    "duration": 0,
    "start_time": "2024-06-01T12:29:12.076Z"
   },
   {
    "duration": 0,
    "start_time": "2024-06-01T12:29:12.077Z"
   },
   {
    "duration": 0,
    "start_time": "2024-06-01T12:29:12.078Z"
   },
   {
    "duration": 0,
    "start_time": "2024-06-01T12:29:12.079Z"
   },
   {
    "duration": 0,
    "start_time": "2024-06-01T12:29:12.080Z"
   },
   {
    "duration": 0,
    "start_time": "2024-06-01T12:29:12.081Z"
   },
   {
    "duration": 0,
    "start_time": "2024-06-01T12:29:12.083Z"
   },
   {
    "duration": 0,
    "start_time": "2024-06-01T12:29:12.084Z"
   },
   {
    "duration": 0,
    "start_time": "2024-06-01T12:29:12.085Z"
   },
   {
    "duration": 0,
    "start_time": "2024-06-01T12:29:12.086Z"
   },
   {
    "duration": 0,
    "start_time": "2024-06-01T12:29:12.088Z"
   },
   {
    "duration": 0,
    "start_time": "2024-06-01T12:29:12.089Z"
   },
   {
    "duration": 0,
    "start_time": "2024-06-01T12:29:12.090Z"
   },
   {
    "duration": 0,
    "start_time": "2024-06-01T12:29:12.092Z"
   },
   {
    "duration": 0,
    "start_time": "2024-06-01T12:29:12.093Z"
   },
   {
    "duration": 0,
    "start_time": "2024-06-01T12:29:12.094Z"
   },
   {
    "duration": 0,
    "start_time": "2024-06-01T12:29:12.095Z"
   },
   {
    "duration": 0,
    "start_time": "2024-06-01T12:29:12.097Z"
   },
   {
    "duration": 0,
    "start_time": "2024-06-01T12:29:12.098Z"
   },
   {
    "duration": 0,
    "start_time": "2024-06-01T12:29:12.099Z"
   },
   {
    "duration": 0,
    "start_time": "2024-06-01T12:29:12.100Z"
   },
   {
    "duration": 0,
    "start_time": "2024-06-01T12:29:12.102Z"
   },
   {
    "duration": 0,
    "start_time": "2024-06-01T12:29:12.103Z"
   },
   {
    "duration": 0,
    "start_time": "2024-06-01T12:29:12.104Z"
   },
   {
    "duration": 0,
    "start_time": "2024-06-01T12:29:12.106Z"
   },
   {
    "duration": 0,
    "start_time": "2024-06-01T12:29:12.107Z"
   },
   {
    "duration": 0,
    "start_time": "2024-06-01T12:29:12.108Z"
   },
   {
    "duration": 0,
    "start_time": "2024-06-01T12:29:12.109Z"
   },
   {
    "duration": 0,
    "start_time": "2024-06-01T12:29:12.110Z"
   },
   {
    "duration": 0,
    "start_time": "2024-06-01T12:29:12.111Z"
   },
   {
    "duration": 0,
    "start_time": "2024-06-01T12:29:12.113Z"
   },
   {
    "duration": 1512,
    "start_time": "2024-06-01T12:30:02.823Z"
   },
   {
    "duration": 972,
    "start_time": "2024-06-01T12:30:04.337Z"
   },
   {
    "duration": 3,
    "start_time": "2024-06-01T12:30:05.310Z"
   },
   {
    "duration": 69,
    "start_time": "2024-06-01T12:30:05.315Z"
   },
   {
    "duration": 15,
    "start_time": "2024-06-01T12:30:05.386Z"
   },
   {
    "duration": 36,
    "start_time": "2024-06-01T12:30:05.403Z"
   },
   {
    "duration": 36,
    "start_time": "2024-06-01T12:30:05.441Z"
   },
   {
    "duration": 45,
    "start_time": "2024-06-01T12:30:05.479Z"
   },
   {
    "duration": 0,
    "start_time": "2024-06-01T12:30:05.527Z"
   },
   {
    "duration": 0,
    "start_time": "2024-06-01T12:30:05.528Z"
   },
   {
    "duration": 0,
    "start_time": "2024-06-01T12:30:05.529Z"
   },
   {
    "duration": 0,
    "start_time": "2024-06-01T12:30:05.530Z"
   },
   {
    "duration": 0,
    "start_time": "2024-06-01T12:30:05.531Z"
   },
   {
    "duration": 0,
    "start_time": "2024-06-01T12:30:05.532Z"
   },
   {
    "duration": 0,
    "start_time": "2024-06-01T12:30:05.533Z"
   },
   {
    "duration": 0,
    "start_time": "2024-06-01T12:30:05.534Z"
   },
   {
    "duration": 0,
    "start_time": "2024-06-01T12:30:05.536Z"
   },
   {
    "duration": 0,
    "start_time": "2024-06-01T12:30:05.537Z"
   },
   {
    "duration": 0,
    "start_time": "2024-06-01T12:30:05.538Z"
   },
   {
    "duration": 0,
    "start_time": "2024-06-01T12:30:05.539Z"
   },
   {
    "duration": 0,
    "start_time": "2024-06-01T12:30:05.540Z"
   },
   {
    "duration": 0,
    "start_time": "2024-06-01T12:30:05.541Z"
   },
   {
    "duration": 0,
    "start_time": "2024-06-01T12:30:05.542Z"
   },
   {
    "duration": 0,
    "start_time": "2024-06-01T12:30:05.543Z"
   },
   {
    "duration": 0,
    "start_time": "2024-06-01T12:30:05.544Z"
   },
   {
    "duration": 0,
    "start_time": "2024-06-01T12:30:05.545Z"
   },
   {
    "duration": 0,
    "start_time": "2024-06-01T12:30:05.546Z"
   },
   {
    "duration": 0,
    "start_time": "2024-06-01T12:30:05.547Z"
   },
   {
    "duration": 0,
    "start_time": "2024-06-01T12:30:05.548Z"
   },
   {
    "duration": 0,
    "start_time": "2024-06-01T12:30:05.549Z"
   },
   {
    "duration": 0,
    "start_time": "2024-06-01T12:30:05.550Z"
   },
   {
    "duration": 0,
    "start_time": "2024-06-01T12:30:05.551Z"
   },
   {
    "duration": 0,
    "start_time": "2024-06-01T12:30:05.552Z"
   },
   {
    "duration": 0,
    "start_time": "2024-06-01T12:30:05.554Z"
   },
   {
    "duration": 0,
    "start_time": "2024-06-01T12:30:05.555Z"
   },
   {
    "duration": 0,
    "start_time": "2024-06-01T12:30:05.556Z"
   },
   {
    "duration": 0,
    "start_time": "2024-06-01T12:30:05.557Z"
   },
   {
    "duration": 0,
    "start_time": "2024-06-01T12:30:05.558Z"
   },
   {
    "duration": 0,
    "start_time": "2024-06-01T12:30:05.559Z"
   },
   {
    "duration": 0,
    "start_time": "2024-06-01T12:30:05.560Z"
   },
   {
    "duration": 0,
    "start_time": "2024-06-01T12:30:05.561Z"
   },
   {
    "duration": 1571,
    "start_time": "2024-06-01T12:32:02.759Z"
   },
   {
    "duration": 962,
    "start_time": "2024-06-01T12:32:04.332Z"
   },
   {
    "duration": 3,
    "start_time": "2024-06-01T12:32:05.295Z"
   },
   {
    "duration": 44,
    "start_time": "2024-06-01T12:32:05.300Z"
   },
   {
    "duration": 24,
    "start_time": "2024-06-01T12:32:05.345Z"
   },
   {
    "duration": 13,
    "start_time": "2024-06-01T12:32:05.371Z"
   },
   {
    "duration": 4,
    "start_time": "2024-06-01T12:32:05.385Z"
   },
   {
    "duration": 5,
    "start_time": "2024-06-01T12:32:05.392Z"
   },
   {
    "duration": 96716,
    "start_time": "2024-06-01T12:32:05.398Z"
   },
   {
    "duration": 34,
    "start_time": "2024-06-01T12:33:42.117Z"
   },
   {
    "duration": 4,
    "start_time": "2024-06-01T12:33:42.153Z"
   },
   {
    "duration": 35,
    "start_time": "2024-06-01T12:33:42.158Z"
   },
   {
    "duration": 4,
    "start_time": "2024-06-01T12:33:42.194Z"
   },
   {
    "duration": 5,
    "start_time": "2024-06-01T12:33:42.200Z"
   },
   {
    "duration": 4,
    "start_time": "2024-06-01T12:33:42.207Z"
   },
   {
    "duration": 3230,
    "start_time": "2024-06-01T12:33:42.213Z"
   },
   {
    "duration": 2263,
    "start_time": "2024-06-01T12:33:45.444Z"
   },
   {
    "duration": 2388,
    "start_time": "2024-06-01T12:33:47.709Z"
   },
   {
    "duration": 4,
    "start_time": "2024-06-01T12:33:50.099Z"
   },
   {
    "duration": 23,
    "start_time": "2024-06-01T12:33:50.105Z"
   },
   {
    "duration": 3250,
    "start_time": "2024-06-01T12:33:50.130Z"
   },
   {
    "duration": 2204,
    "start_time": "2024-06-01T12:33:53.381Z"
   },
   {
    "duration": 2276,
    "start_time": "2024-06-01T12:33:55.587Z"
   },
   {
    "duration": 4,
    "start_time": "2024-06-01T12:33:57.865Z"
   },
   {
    "duration": 9,
    "start_time": "2024-06-01T12:33:57.871Z"
   },
   {
    "duration": 10,
    "start_time": "2024-06-01T12:33:57.882Z"
   },
   {
    "duration": 3160,
    "start_time": "2024-06-01T12:33:57.894Z"
   },
   {
    "duration": 2206,
    "start_time": "2024-06-01T12:34:01.058Z"
   },
   {
    "duration": 2287,
    "start_time": "2024-06-01T12:34:03.266Z"
   },
   {
    "duration": 3,
    "start_time": "2024-06-01T12:34:05.555Z"
   },
   {
    "duration": 30,
    "start_time": "2024-06-01T12:34:05.560Z"
   },
   {
    "duration": 3005,
    "start_time": "2024-06-01T12:34:05.592Z"
   },
   {
    "duration": 2113,
    "start_time": "2024-06-01T12:34:08.599Z"
   },
   {
    "duration": 2180,
    "start_time": "2024-06-01T12:34:10.714Z"
   },
   {
    "duration": 5,
    "start_time": "2024-06-01T12:34:12.895Z"
   },
   {
    "duration": 25707,
    "start_time": "2024-06-01T12:34:12.901Z"
   },
   {
    "duration": 41382,
    "start_time": "2024-06-01T12:34:38.610Z"
   },
   {
    "duration": 20006,
    "start_time": "2024-06-01T12:35:19.994Z"
   },
   {
    "duration": 40999,
    "start_time": "2024-06-01T12:35:40.003Z"
   },
   {
    "duration": 131,
    "start_time": "2024-06-01T12:36:21.004Z"
   },
   {
    "duration": 0,
    "start_time": "2024-06-01T12:36:21.137Z"
   },
   {
    "duration": 1545,
    "start_time": "2024-06-01T12:40:27.080Z"
   },
   {
    "duration": 961,
    "start_time": "2024-06-01T12:40:28.627Z"
   },
   {
    "duration": 4,
    "start_time": "2024-06-01T12:40:29.589Z"
   },
   {
    "duration": 58,
    "start_time": "2024-06-01T12:40:29.595Z"
   },
   {
    "duration": 31,
    "start_time": "2024-06-01T12:40:29.655Z"
   },
   {
    "duration": 65,
    "start_time": "2024-06-01T12:40:29.688Z"
   },
   {
    "duration": 28,
    "start_time": "2024-06-01T12:40:29.754Z"
   },
   {
    "duration": 34,
    "start_time": "2024-06-01T12:40:29.783Z"
   },
   {
    "duration": 104005,
    "start_time": "2024-06-01T12:40:29.818Z"
   },
   {
    "duration": 36,
    "start_time": "2024-06-01T12:42:13.826Z"
   },
   {
    "duration": 4,
    "start_time": "2024-06-01T12:42:13.864Z"
   },
   {
    "duration": 41,
    "start_time": "2024-06-01T12:42:13.870Z"
   },
   {
    "duration": 4,
    "start_time": "2024-06-01T12:42:13.913Z"
   },
   {
    "duration": 7,
    "start_time": "2024-06-01T12:42:13.919Z"
   },
   {
    "duration": 11,
    "start_time": "2024-06-01T12:42:13.928Z"
   },
   {
    "duration": 3530,
    "start_time": "2024-06-01T12:42:13.941Z"
   },
   {
    "duration": 2407,
    "start_time": "2024-06-01T12:42:17.472Z"
   },
   {
    "duration": 2452,
    "start_time": "2024-06-01T12:42:19.881Z"
   },
   {
    "duration": 4,
    "start_time": "2024-06-01T12:42:22.335Z"
   },
   {
    "duration": 19,
    "start_time": "2024-06-01T12:42:22.341Z"
   },
   {
    "duration": 3261,
    "start_time": "2024-06-01T12:42:22.361Z"
   },
   {
    "duration": 2540,
    "start_time": "2024-06-01T12:42:25.624Z"
   },
   {
    "duration": 2472,
    "start_time": "2024-06-01T12:42:28.166Z"
   },
   {
    "duration": 4,
    "start_time": "2024-06-01T12:42:30.640Z"
   },
   {
    "duration": 125,
    "start_time": "2024-06-01T12:42:30.645Z"
   },
   {
    "duration": 25,
    "start_time": "2024-06-01T12:42:30.772Z"
   },
   {
    "duration": 3189,
    "start_time": "2024-06-01T12:42:30.798Z"
   },
   {
    "duration": 2282,
    "start_time": "2024-06-01T12:42:33.991Z"
   },
   {
    "duration": 2175,
    "start_time": "2024-06-01T12:42:36.275Z"
   },
   {
    "duration": 4,
    "start_time": "2024-06-01T12:42:38.452Z"
   },
   {
    "duration": 24,
    "start_time": "2024-06-01T12:42:38.458Z"
   },
   {
    "duration": 3129,
    "start_time": "2024-06-01T12:42:38.485Z"
   },
   {
    "duration": 2191,
    "start_time": "2024-06-01T12:42:41.616Z"
   },
   {
    "duration": 2393,
    "start_time": "2024-06-01T12:42:43.809Z"
   },
   {
    "duration": 5,
    "start_time": "2024-06-01T12:42:46.204Z"
   },
   {
    "duration": 28200,
    "start_time": "2024-06-01T12:42:46.211Z"
   },
   {
    "duration": 40786,
    "start_time": "2024-06-01T12:43:14.413Z"
   },
   {
    "duration": 19416,
    "start_time": "2024-06-01T12:43:55.201Z"
   },
   {
    "duration": 39928,
    "start_time": "2024-06-01T12:44:14.692Z"
   },
   {
    "duration": 138,
    "start_time": "2024-06-01T12:44:54.700Z"
   },
   {
    "duration": 0,
    "start_time": "2024-06-01T12:44:54.840Z"
   },
   {
    "duration": 27,
    "start_time": "2024-06-01T12:45:56.244Z"
   },
   {
    "duration": 40146,
    "start_time": "2024-06-01T12:46:02.456Z"
   },
   {
    "duration": 1502,
    "start_time": "2024-06-01T12:51:09.732Z"
   },
   {
    "duration": 971,
    "start_time": "2024-06-01T12:51:11.237Z"
   },
   {
    "duration": 3,
    "start_time": "2024-06-01T12:51:12.209Z"
   },
   {
    "duration": 45,
    "start_time": "2024-06-01T12:51:12.215Z"
   },
   {
    "duration": 10,
    "start_time": "2024-06-01T12:51:12.262Z"
   },
   {
    "duration": 20,
    "start_time": "2024-06-01T12:51:12.274Z"
   },
   {
    "duration": 3,
    "start_time": "2024-06-01T12:51:12.296Z"
   },
   {
    "duration": 5,
    "start_time": "2024-06-01T12:51:12.300Z"
   },
   {
    "duration": 96802,
    "start_time": "2024-06-01T12:51:12.306Z"
   },
   {
    "duration": 34,
    "start_time": "2024-06-01T12:52:49.112Z"
   },
   {
    "duration": 4,
    "start_time": "2024-06-01T12:52:49.148Z"
   },
   {
    "duration": 43,
    "start_time": "2024-06-01T12:52:49.154Z"
   },
   {
    "duration": 8,
    "start_time": "2024-06-01T12:52:49.199Z"
   },
   {
    "duration": 16,
    "start_time": "2024-06-01T12:52:49.208Z"
   },
   {
    "duration": 38,
    "start_time": "2024-06-01T12:52:49.225Z"
   },
   {
    "duration": 3442,
    "start_time": "2024-06-01T12:52:49.265Z"
   },
   {
    "duration": 2349,
    "start_time": "2024-06-01T12:52:52.709Z"
   },
   {
    "duration": 2267,
    "start_time": "2024-06-01T12:52:55.060Z"
   },
   {
    "duration": 4,
    "start_time": "2024-06-01T12:52:57.329Z"
   },
   {
    "duration": 35,
    "start_time": "2024-06-01T12:52:57.334Z"
   },
   {
    "duration": 3222,
    "start_time": "2024-06-01T12:52:57.371Z"
   },
   {
    "duration": 2383,
    "start_time": "2024-06-01T12:53:00.595Z"
   },
   {
    "duration": 2315,
    "start_time": "2024-06-01T12:53:02.980Z"
   },
   {
    "duration": 4,
    "start_time": "2024-06-01T12:53:05.297Z"
   },
   {
    "duration": 15,
    "start_time": "2024-06-01T12:53:05.302Z"
   },
   {
    "duration": 2,
    "start_time": "2024-06-01T12:53:05.319Z"
   },
   {
    "duration": 3126,
    "start_time": "2024-06-01T12:53:05.322Z"
   },
   {
    "duration": 2148,
    "start_time": "2024-06-01T12:53:08.451Z"
   },
   {
    "duration": 2126,
    "start_time": "2024-06-01T12:53:10.601Z"
   },
   {
    "duration": 4,
    "start_time": "2024-06-01T12:53:12.729Z"
   },
   {
    "duration": 10,
    "start_time": "2024-06-01T12:53:12.734Z"
   },
   {
    "duration": 3029,
    "start_time": "2024-06-01T12:53:12.745Z"
   },
   {
    "duration": 2007,
    "start_time": "2024-06-01T12:53:15.776Z"
   },
   {
    "duration": 2067,
    "start_time": "2024-06-01T12:53:17.784Z"
   },
   {
    "duration": 6,
    "start_time": "2024-06-01T12:53:19.853Z"
   },
   {
    "duration": 25134,
    "start_time": "2024-06-01T12:53:19.861Z"
   },
   {
    "duration": 79015,
    "start_time": "2024-06-01T12:53:44.997Z"
   },
   {
    "duration": 17802,
    "start_time": "2024-06-01T12:55:04.014Z"
   },
   {
    "duration": 76479,
    "start_time": "2024-06-01T12:55:21.819Z"
   },
   {
    "duration": 20,
    "start_time": "2024-06-01T12:56:38.300Z"
   },
   {
    "duration": 81475,
    "start_time": "2024-06-01T12:56:38.321Z"
   },
   {
    "duration": 1598,
    "start_time": "2024-06-01T12:59:50.718Z"
   },
   {
    "duration": 976,
    "start_time": "2024-06-01T12:59:52.318Z"
   },
   {
    "duration": 3,
    "start_time": "2024-06-01T12:59:53.295Z"
   },
   {
    "duration": 64,
    "start_time": "2024-06-01T12:59:53.300Z"
   },
   {
    "duration": 25,
    "start_time": "2024-06-01T12:59:53.366Z"
   },
   {
    "duration": 23,
    "start_time": "2024-06-01T12:59:53.393Z"
   },
   {
    "duration": 3,
    "start_time": "2024-06-01T12:59:53.417Z"
   },
   {
    "duration": 10,
    "start_time": "2024-06-01T12:59:53.421Z"
   },
   {
    "duration": 94435,
    "start_time": "2024-06-01T12:59:53.433Z"
   },
   {
    "duration": 40,
    "start_time": "2024-06-01T13:01:27.871Z"
   },
   {
    "duration": 3,
    "start_time": "2024-06-01T13:01:27.913Z"
   },
   {
    "duration": 40,
    "start_time": "2024-06-01T13:01:27.918Z"
   },
   {
    "duration": 5,
    "start_time": "2024-06-01T13:01:27.961Z"
   },
   {
    "duration": 33,
    "start_time": "2024-06-01T13:01:27.968Z"
   },
   {
    "duration": 14,
    "start_time": "2024-06-01T13:01:28.003Z"
   },
   {
    "duration": 3233,
    "start_time": "2024-06-01T13:01:28.019Z"
   },
   {
    "duration": 2212,
    "start_time": "2024-06-01T13:01:31.254Z"
   },
   {
    "duration": 2252,
    "start_time": "2024-06-01T13:01:33.468Z"
   },
   {
    "duration": 4,
    "start_time": "2024-06-01T13:01:35.721Z"
   },
   {
    "duration": 23,
    "start_time": "2024-06-01T13:01:35.727Z"
   },
   {
    "duration": 3105,
    "start_time": "2024-06-01T13:01:35.751Z"
   },
   {
    "duration": 2207,
    "start_time": "2024-06-01T13:01:38.857Z"
   },
   {
    "duration": 2207,
    "start_time": "2024-06-01T13:01:41.066Z"
   },
   {
    "duration": 3,
    "start_time": "2024-06-01T13:01:43.275Z"
   },
   {
    "duration": 20,
    "start_time": "2024-06-01T13:01:43.280Z"
   },
   {
    "duration": 3,
    "start_time": "2024-06-01T13:01:43.301Z"
   },
   {
    "duration": 3052,
    "start_time": "2024-06-01T13:01:43.305Z"
   },
   {
    "duration": 2136,
    "start_time": "2024-06-01T13:01:46.360Z"
   },
   {
    "duration": 2211,
    "start_time": "2024-06-01T13:01:48.498Z"
   },
   {
    "duration": 4,
    "start_time": "2024-06-01T13:01:50.711Z"
   },
   {
    "duration": 20,
    "start_time": "2024-06-01T13:01:50.717Z"
   },
   {
    "duration": 2979,
    "start_time": "2024-06-01T13:01:50.739Z"
   },
   {
    "duration": 2067,
    "start_time": "2024-06-01T13:01:53.719Z"
   },
   {
    "duration": 2137,
    "start_time": "2024-06-01T13:01:55.788Z"
   },
   {
    "duration": 4,
    "start_time": "2024-06-01T13:01:57.927Z"
   },
   {
    "duration": 23787,
    "start_time": "2024-06-01T13:01:57.932Z"
   },
   {
    "duration": 198678,
    "start_time": "2024-06-01T13:02:21.721Z"
   },
   {
    "duration": 18897,
    "start_time": "2024-06-01T13:05:40.401Z"
   },
   {
    "duration": 14892,
    "start_time": "2024-06-01T13:05:59.300Z"
   },
   {
    "duration": 20,
    "start_time": "2024-06-01T13:06:14.194Z"
   },
   {
    "duration": 8291,
    "start_time": "2024-06-01T13:06:14.215Z"
   },
   {
    "duration": 1485,
    "start_time": "2024-06-01T13:06:30.197Z"
   },
   {
    "duration": 978,
    "start_time": "2024-06-01T13:06:31.684Z"
   },
   {
    "duration": 3,
    "start_time": "2024-06-01T13:06:32.663Z"
   },
   {
    "duration": 54,
    "start_time": "2024-06-01T13:06:32.668Z"
   },
   {
    "duration": 24,
    "start_time": "2024-06-01T13:06:32.724Z"
   },
   {
    "duration": 15,
    "start_time": "2024-06-01T13:06:32.750Z"
   },
   {
    "duration": 4,
    "start_time": "2024-06-01T13:06:32.767Z"
   },
   {
    "duration": 15,
    "start_time": "2024-06-01T13:06:32.773Z"
   },
   {
    "duration": 95706,
    "start_time": "2024-06-01T13:06:32.790Z"
   },
   {
    "duration": 31,
    "start_time": "2024-06-01T13:08:08.499Z"
   },
   {
    "duration": 4,
    "start_time": "2024-06-01T13:08:08.532Z"
   },
   {
    "duration": 20,
    "start_time": "2024-06-01T13:08:08.537Z"
   },
   {
    "duration": 4,
    "start_time": "2024-06-01T13:08:08.559Z"
   },
   {
    "duration": 30,
    "start_time": "2024-06-01T13:08:08.564Z"
   },
   {
    "duration": 11,
    "start_time": "2024-06-01T13:08:08.595Z"
   },
   {
    "duration": 3291,
    "start_time": "2024-06-01T13:08:08.608Z"
   },
   {
    "duration": 2193,
    "start_time": "2024-06-01T13:08:11.901Z"
   },
   {
    "duration": 2297,
    "start_time": "2024-06-01T13:08:14.095Z"
   },
   {
    "duration": 4,
    "start_time": "2024-06-01T13:08:16.394Z"
   },
   {
    "duration": 4,
    "start_time": "2024-06-01T13:08:16.400Z"
   },
   {
    "duration": 3120,
    "start_time": "2024-06-01T13:08:16.406Z"
   },
   {
    "duration": 2202,
    "start_time": "2024-06-01T13:08:19.528Z"
   },
   {
    "duration": 2270,
    "start_time": "2024-06-01T13:08:21.732Z"
   },
   {
    "duration": 3,
    "start_time": "2024-06-01T13:08:24.004Z"
   },
   {
    "duration": 10,
    "start_time": "2024-06-01T13:08:24.009Z"
   },
   {
    "duration": 3,
    "start_time": "2024-06-01T13:08:24.020Z"
   },
   {
    "duration": 3124,
    "start_time": "2024-06-01T13:08:24.024Z"
   },
   {
    "duration": 2315,
    "start_time": "2024-06-01T13:08:27.152Z"
   },
   {
    "duration": 2249,
    "start_time": "2024-06-01T13:08:29.469Z"
   },
   {
    "duration": 4,
    "start_time": "2024-06-01T13:08:31.720Z"
   },
   {
    "duration": 45,
    "start_time": "2024-06-01T13:08:31.726Z"
   },
   {
    "duration": 3007,
    "start_time": "2024-06-01T13:08:31.773Z"
   },
   {
    "duration": 2058,
    "start_time": "2024-06-01T13:08:34.782Z"
   },
   {
    "duration": 2107,
    "start_time": "2024-06-01T13:08:36.842Z"
   },
   {
    "duration": 4,
    "start_time": "2024-06-01T13:08:38.951Z"
   },
   {
    "duration": 25058,
    "start_time": "2024-06-01T13:08:38.956Z"
   },
   {
    "duration": 208695,
    "start_time": "2024-06-01T13:09:04.015Z"
   },
   {
    "duration": 20292,
    "start_time": "2024-06-01T13:12:32.712Z"
   },
   {
    "duration": 109808,
    "start_time": "2024-06-01T13:12:53.006Z"
   },
   {
    "duration": 81,
    "start_time": "2024-06-01T13:14:42.817Z"
   },
   {
    "duration": 205907,
    "start_time": "2024-06-01T13:14:42.900Z"
   },
   {
    "duration": 1693,
    "start_time": "2024-06-01T13:29:10.769Z"
   },
   {
    "duration": 1070,
    "start_time": "2024-06-01T13:29:12.464Z"
   },
   {
    "duration": 3,
    "start_time": "2024-06-01T13:29:13.537Z"
   },
   {
    "duration": 54,
    "start_time": "2024-06-01T13:29:13.542Z"
   },
   {
    "duration": 11,
    "start_time": "2024-06-01T13:29:13.598Z"
   },
   {
    "duration": 11,
    "start_time": "2024-06-01T13:29:13.610Z"
   },
   {
    "duration": 3,
    "start_time": "2024-06-01T13:29:13.623Z"
   },
   {
    "duration": 5,
    "start_time": "2024-06-01T13:29:13.627Z"
   },
   {
    "duration": 95457,
    "start_time": "2024-06-01T13:29:13.633Z"
   },
   {
    "duration": 32,
    "start_time": "2024-06-01T13:30:49.092Z"
   },
   {
    "duration": 4,
    "start_time": "2024-06-01T13:30:49.126Z"
   },
   {
    "duration": 20,
    "start_time": "2024-06-01T13:30:49.132Z"
   },
   {
    "duration": 4,
    "start_time": "2024-06-01T13:30:49.153Z"
   },
   {
    "duration": 49,
    "start_time": "2024-06-01T13:30:49.160Z"
   },
   {
    "duration": 5,
    "start_time": "2024-06-01T13:30:49.211Z"
   },
   {
    "duration": 3228,
    "start_time": "2024-06-01T13:30:49.217Z"
   },
   {
    "duration": 2203,
    "start_time": "2024-06-01T13:30:52.447Z"
   },
   {
    "duration": 2163,
    "start_time": "2024-06-01T13:30:54.652Z"
   },
   {
    "duration": 4,
    "start_time": "2024-06-01T13:30:56.817Z"
   },
   {
    "duration": 26,
    "start_time": "2024-06-01T13:30:56.823Z"
   },
   {
    "duration": 3160,
    "start_time": "2024-06-01T13:30:56.851Z"
   },
   {
    "duration": 2290,
    "start_time": "2024-06-01T13:31:00.012Z"
   },
   {
    "duration": 2221,
    "start_time": "2024-06-01T13:31:02.304Z"
   },
   {
    "duration": 4,
    "start_time": "2024-06-01T13:31:04.526Z"
   },
   {
    "duration": 20,
    "start_time": "2024-06-01T13:31:04.532Z"
   },
   {
    "duration": 3,
    "start_time": "2024-06-01T13:31:04.554Z"
   },
   {
    "duration": 3036,
    "start_time": "2024-06-01T13:31:04.559Z"
   },
   {
    "duration": 2162,
    "start_time": "2024-06-01T13:31:07.596Z"
   },
   {
    "duration": 2169,
    "start_time": "2024-06-01T13:31:09.760Z"
   },
   {
    "duration": 5,
    "start_time": "2024-06-01T13:31:11.931Z"
   },
   {
    "duration": 18,
    "start_time": "2024-06-01T13:31:11.938Z"
   },
   {
    "duration": 3000,
    "start_time": "2024-06-01T13:31:11.958Z"
   },
   {
    "duration": 2034,
    "start_time": "2024-06-01T13:31:14.960Z"
   },
   {
    "duration": 2111,
    "start_time": "2024-06-01T13:31:16.996Z"
   },
   {
    "duration": 5,
    "start_time": "2024-06-01T13:31:19.108Z"
   },
   {
    "duration": 25481,
    "start_time": "2024-06-01T13:31:19.114Z"
   },
   {
    "duration": 205422,
    "start_time": "2024-06-01T13:31:44.596Z"
   },
   {
    "duration": 18083,
    "start_time": "2024-06-01T13:35:10.020Z"
   },
   {
    "duration": 105704,
    "start_time": "2024-06-01T13:35:28.105Z"
   },
   {
    "duration": 19,
    "start_time": "2024-06-01T13:37:13.811Z"
   },
   {
    "duration": 204871,
    "start_time": "2024-06-01T13:37:13.834Z"
   },
   {
    "duration": 1584,
    "start_time": "2024-06-01T13:46:29.987Z"
   },
   {
    "duration": 1007,
    "start_time": "2024-06-01T13:46:31.573Z"
   },
   {
    "duration": 3,
    "start_time": "2024-06-01T13:46:32.581Z"
   },
   {
    "duration": 41,
    "start_time": "2024-06-01T13:46:32.586Z"
   },
   {
    "duration": 10,
    "start_time": "2024-06-01T13:46:32.629Z"
   },
   {
    "duration": 8,
    "start_time": "2024-06-01T13:46:32.640Z"
   },
   {
    "duration": 2,
    "start_time": "2024-06-01T13:46:32.650Z"
   },
   {
    "duration": 11,
    "start_time": "2024-06-01T13:46:32.654Z"
   },
   {
    "duration": 95750,
    "start_time": "2024-06-01T13:46:32.667Z"
   },
   {
    "duration": 34,
    "start_time": "2024-06-01T13:48:08.421Z"
   },
   {
    "duration": 4,
    "start_time": "2024-06-01T13:48:08.457Z"
   },
   {
    "duration": 50,
    "start_time": "2024-06-01T13:48:08.463Z"
   },
   {
    "duration": 5,
    "start_time": "2024-06-01T13:48:08.515Z"
   },
   {
    "duration": 11,
    "start_time": "2024-06-01T13:48:08.521Z"
   },
   {
    "duration": 10,
    "start_time": "2024-06-01T13:48:08.533Z"
   },
   {
    "duration": 3356,
    "start_time": "2024-06-01T13:48:08.545Z"
   },
   {
    "duration": 2252,
    "start_time": "2024-06-01T13:48:11.903Z"
   },
   {
    "duration": 2337,
    "start_time": "2024-06-01T13:48:14.158Z"
   },
   {
    "duration": 4,
    "start_time": "2024-06-01T13:48:16.497Z"
   },
   {
    "duration": 6,
    "start_time": "2024-06-01T13:48:16.503Z"
   },
   {
    "duration": 3181,
    "start_time": "2024-06-01T13:48:16.511Z"
   },
   {
    "duration": 2218,
    "start_time": "2024-06-01T13:48:19.694Z"
   },
   {
    "duration": 2254,
    "start_time": "2024-06-01T13:48:21.913Z"
   },
   {
    "duration": 3,
    "start_time": "2024-06-01T13:48:24.169Z"
   },
   {
    "duration": 17,
    "start_time": "2024-06-01T13:48:24.175Z"
   },
   {
    "duration": 6,
    "start_time": "2024-06-01T13:48:24.194Z"
   },
   {
    "duration": 3132,
    "start_time": "2024-06-01T13:48:24.202Z"
   },
   {
    "duration": 2099,
    "start_time": "2024-06-01T13:48:27.337Z"
   },
   {
    "duration": 2221,
    "start_time": "2024-06-01T13:48:29.438Z"
   },
   {
    "duration": 5,
    "start_time": "2024-06-01T13:48:31.661Z"
   },
   {
    "duration": 90,
    "start_time": "2024-06-01T13:48:31.667Z"
   },
   {
    "duration": 3008,
    "start_time": "2024-06-01T13:48:31.758Z"
   },
   {
    "duration": 2087,
    "start_time": "2024-06-01T13:48:34.768Z"
   },
   {
    "duration": 2152,
    "start_time": "2024-06-01T13:48:36.857Z"
   },
   {
    "duration": 5,
    "start_time": "2024-06-01T13:48:39.011Z"
   },
   {
    "duration": 25776,
    "start_time": "2024-06-01T13:48:39.017Z"
   },
   {
    "duration": 203910,
    "start_time": "2024-06-01T13:49:04.795Z"
   },
   {
    "duration": 18903,
    "start_time": "2024-06-01T13:52:28.707Z"
   },
   {
    "duration": 106888,
    "start_time": "2024-06-01T13:52:47.611Z"
   },
   {
    "duration": 22,
    "start_time": "2024-06-01T13:54:34.501Z"
   },
   {
    "duration": 202682,
    "start_time": "2024-06-01T13:54:34.525Z"
   },
   {
    "duration": 19,
    "start_time": "2024-06-01T14:00:32.451Z"
   },
   {
    "duration": 1583,
    "start_time": "2024-06-01T14:11:32.442Z"
   },
   {
    "duration": 1023,
    "start_time": "2024-06-01T14:11:34.027Z"
   },
   {
    "duration": 2,
    "start_time": "2024-06-01T14:11:35.052Z"
   },
   {
    "duration": 67,
    "start_time": "2024-06-01T14:11:35.056Z"
   },
   {
    "duration": 11,
    "start_time": "2024-06-01T14:11:35.125Z"
   },
   {
    "duration": 11,
    "start_time": "2024-06-01T14:11:35.137Z"
   },
   {
    "duration": 7,
    "start_time": "2024-06-01T14:11:35.149Z"
   },
   {
    "duration": 21,
    "start_time": "2024-06-01T14:11:35.157Z"
   },
   {
    "duration": 97737,
    "start_time": "2024-06-01T14:11:35.180Z"
   },
   {
    "duration": 32,
    "start_time": "2024-06-01T14:13:12.920Z"
   },
   {
    "duration": 6,
    "start_time": "2024-06-01T14:13:12.953Z"
   },
   {
    "duration": 44,
    "start_time": "2024-06-01T14:13:12.960Z"
   },
   {
    "duration": 19,
    "start_time": "2024-06-01T14:13:13.005Z"
   },
   {
    "duration": 28,
    "start_time": "2024-06-01T14:13:13.026Z"
   },
   {
    "duration": 32,
    "start_time": "2024-06-01T14:13:13.056Z"
   },
   {
    "duration": 3347,
    "start_time": "2024-06-01T14:13:13.090Z"
   },
   {
    "duration": 2314,
    "start_time": "2024-06-01T14:13:16.439Z"
   },
   {
    "duration": 2419,
    "start_time": "2024-06-01T14:13:18.755Z"
   },
   {
    "duration": 4,
    "start_time": "2024-06-01T14:13:21.176Z"
   },
   {
    "duration": 32,
    "start_time": "2024-06-01T14:13:21.182Z"
   },
   {
    "duration": 3239,
    "start_time": "2024-06-01T14:13:21.216Z"
   },
   {
    "duration": 2189,
    "start_time": "2024-06-01T14:13:24.457Z"
   },
   {
    "duration": 2317,
    "start_time": "2024-06-01T14:13:26.648Z"
   },
   {
    "duration": 4,
    "start_time": "2024-06-01T14:13:28.967Z"
   },
   {
    "duration": 16,
    "start_time": "2024-06-01T14:13:28.973Z"
   },
   {
    "duration": 3,
    "start_time": "2024-06-01T14:13:28.992Z"
   },
   {
    "duration": 3177,
    "start_time": "2024-06-01T14:13:28.997Z"
   },
   {
    "duration": 2357,
    "start_time": "2024-06-01T14:13:32.180Z"
   },
   {
    "duration": 2245,
    "start_time": "2024-06-01T14:13:34.539Z"
   },
   {
    "duration": 7,
    "start_time": "2024-06-01T14:13:36.786Z"
   },
   {
    "duration": 30,
    "start_time": "2024-06-01T14:13:36.794Z"
   },
   {
    "duration": 3072,
    "start_time": "2024-06-01T14:13:36.826Z"
   },
   {
    "duration": 2119,
    "start_time": "2024-06-01T14:13:39.900Z"
   },
   {
    "duration": 2240,
    "start_time": "2024-06-01T14:13:42.021Z"
   },
   {
    "duration": 4,
    "start_time": "2024-06-01T14:13:44.263Z"
   },
   {
    "duration": 24542,
    "start_time": "2024-06-01T14:13:44.268Z"
   },
   {
    "duration": 210588,
    "start_time": "2024-06-01T14:14:08.812Z"
   },
   {
    "duration": 19093,
    "start_time": "2024-06-01T14:17:39.402Z"
   },
   {
    "duration": 106601,
    "start_time": "2024-06-01T14:17:58.497Z"
   },
   {
    "duration": 21,
    "start_time": "2024-06-01T14:19:45.100Z"
   },
   {
    "duration": 200086,
    "start_time": "2024-06-01T14:19:45.123Z"
   },
   {
    "duration": 90585,
    "start_time": "2024-06-01T14:47:26.371Z"
   },
   {
    "duration": 25,
    "start_time": "2024-06-01T14:48:56.959Z"
   },
   {
    "duration": 12,
    "start_time": "2024-06-01T14:48:56.986Z"
   },
   {
    "duration": 18,
    "start_time": "2024-06-01T14:48:57.000Z"
   },
   {
    "duration": 3,
    "start_time": "2024-06-01T14:48:57.020Z"
   },
   {
    "duration": 10,
    "start_time": "2024-06-01T14:48:57.025Z"
   },
   {
    "duration": 5,
    "start_time": "2024-06-01T14:48:57.036Z"
   },
   {
    "duration": 2857,
    "start_time": "2024-06-01T14:48:57.043Z"
   },
   {
    "duration": 1903,
    "start_time": "2024-06-01T14:48:59.902Z"
   },
   {
    "duration": 1962,
    "start_time": "2024-06-01T14:49:01.806Z"
   },
   {
    "duration": 4,
    "start_time": "2024-06-01T14:49:03.769Z"
   },
   {
    "duration": 3,
    "start_time": "2024-06-01T14:49:03.774Z"
   },
   {
    "duration": 2788,
    "start_time": "2024-06-01T14:49:03.779Z"
   },
   {
    "duration": 2038,
    "start_time": "2024-06-01T14:49:06.568Z"
   },
   {
    "duration": 2149,
    "start_time": "2024-06-01T14:49:08.607Z"
   },
   {
    "duration": 4,
    "start_time": "2024-06-01T14:49:10.757Z"
   },
   {
    "duration": 7,
    "start_time": "2024-06-01T14:49:10.812Z"
   },
   {
    "duration": 9,
    "start_time": "2024-06-01T14:49:10.820Z"
   },
   {
    "duration": 3093,
    "start_time": "2024-06-01T14:49:10.830Z"
   },
   {
    "duration": 1899,
    "start_time": "2024-06-01T14:49:13.926Z"
   },
   {
    "duration": 1923,
    "start_time": "2024-06-01T14:49:15.827Z"
   },
   {
    "duration": 4,
    "start_time": "2024-06-01T14:49:17.751Z"
   },
   {
    "duration": 15,
    "start_time": "2024-06-01T14:49:17.757Z"
   },
   {
    "duration": 2611,
    "start_time": "2024-06-01T14:49:17.773Z"
   },
   {
    "duration": 1892,
    "start_time": "2024-06-01T14:49:20.386Z"
   },
   {
    "duration": 1978,
    "start_time": "2024-06-01T14:49:22.280Z"
   },
   {
    "duration": 4,
    "start_time": "2024-06-01T14:49:24.260Z"
   },
   {
    "duration": 7662,
    "start_time": "2024-06-01T14:49:24.265Z"
   },
   {
    "duration": 90092,
    "start_time": "2024-06-01T14:49:31.929Z"
   },
   {
    "duration": 5905,
    "start_time": "2024-06-01T14:51:02.023Z"
   },
   {
    "duration": 38688,
    "start_time": "2024-06-01T14:51:07.930Z"
   },
   {
    "duration": 19,
    "start_time": "2024-06-01T14:51:46.620Z"
   },
   {
    "duration": 87281,
    "start_time": "2024-06-01T14:51:46.640Z"
   },
   {
    "duration": 1561,
    "start_time": "2024-06-01T16:02:25.702Z"
   },
   {
    "duration": 3263,
    "start_time": "2024-06-01T16:02:27.265Z"
   },
   {
    "duration": 3,
    "start_time": "2024-06-01T16:02:30.530Z"
   },
   {
    "duration": 166,
    "start_time": "2024-06-01T16:02:30.536Z"
   },
   {
    "duration": 349,
    "start_time": "2024-06-01T16:02:30.704Z"
   },
   {
    "duration": 76,
    "start_time": "2024-06-01T16:02:31.055Z"
   },
   {
    "duration": 50,
    "start_time": "2024-06-01T16:02:31.132Z"
   },
   {
    "duration": 41,
    "start_time": "2024-06-01T16:02:31.184Z"
   },
   {
    "duration": 1535,
    "start_time": "2024-06-01T16:02:31.227Z"
   },
   {
    "duration": 36,
    "start_time": "2024-06-01T16:02:32.764Z"
   },
   {
    "duration": 33,
    "start_time": "2024-06-01T16:02:32.802Z"
   },
   {
    "duration": 124,
    "start_time": "2024-06-01T16:02:32.836Z"
   },
   {
    "duration": 18,
    "start_time": "2024-06-01T16:02:32.962Z"
   },
   {
    "duration": 15,
    "start_time": "2024-06-01T16:02:32.982Z"
   },
   {
    "duration": 23,
    "start_time": "2024-06-01T16:02:32.998Z"
   },
   {
    "duration": 3449,
    "start_time": "2024-06-01T16:02:33.023Z"
   },
   {
    "duration": 2367,
    "start_time": "2024-06-01T16:02:36.473Z"
   },
   {
    "duration": 2470,
    "start_time": "2024-06-01T16:02:38.842Z"
   },
   {
    "duration": 4,
    "start_time": "2024-06-01T16:02:41.314Z"
   },
   {
    "duration": 13,
    "start_time": "2024-06-01T16:02:41.319Z"
   },
   {
    "duration": 3442,
    "start_time": "2024-06-01T16:02:41.333Z"
   },
   {
    "duration": 2495,
    "start_time": "2024-06-01T16:02:44.777Z"
   },
   {
    "duration": 2423,
    "start_time": "2024-06-01T16:02:47.274Z"
   },
   {
    "duration": 5,
    "start_time": "2024-06-01T16:02:49.698Z"
   },
   {
    "duration": 21,
    "start_time": "2024-06-01T16:02:49.704Z"
   },
   {
    "duration": 3,
    "start_time": "2024-06-01T16:02:49.726Z"
   },
   {
    "duration": 3548,
    "start_time": "2024-06-01T16:02:49.731Z"
   },
   {
    "duration": 2296,
    "start_time": "2024-06-01T16:02:53.283Z"
   },
   {
    "duration": 2266,
    "start_time": "2024-06-01T16:02:55.581Z"
   },
   {
    "duration": 4,
    "start_time": "2024-06-01T16:02:57.849Z"
   },
   {
    "duration": 29,
    "start_time": "2024-06-01T16:02:57.854Z"
   },
   {
    "duration": 3241,
    "start_time": "2024-06-01T16:02:57.885Z"
   },
   {
    "duration": 2262,
    "start_time": "2024-06-01T16:03:01.127Z"
   },
   {
    "duration": 2232,
    "start_time": "2024-06-01T16:03:03.390Z"
   },
   {
    "duration": 3,
    "start_time": "2024-06-01T16:03:05.624Z"
   },
   {
    "duration": 32270,
    "start_time": "2024-06-01T16:03:05.629Z"
   },
   {
    "duration": 1542,
    "start_time": "2024-06-01T16:03:44.314Z"
   },
   {
    "duration": 1034,
    "start_time": "2024-06-01T16:03:45.858Z"
   },
   {
    "duration": 3,
    "start_time": "2024-06-01T16:03:46.894Z"
   },
   {
    "duration": 79,
    "start_time": "2024-06-01T16:03:46.899Z"
   },
   {
    "duration": 23,
    "start_time": "2024-06-01T16:03:46.980Z"
   },
   {
    "duration": 22,
    "start_time": "2024-06-01T16:03:47.005Z"
   },
   {
    "duration": 34,
    "start_time": "2024-06-01T16:03:47.029Z"
   },
   {
    "duration": 48,
    "start_time": "2024-06-01T16:03:47.064Z"
   },
   {
    "duration": 0,
    "start_time": "2024-06-01T16:03:47.114Z"
   },
   {
    "duration": 0,
    "start_time": "2024-06-01T16:03:47.115Z"
   },
   {
    "duration": 0,
    "start_time": "2024-06-01T16:03:47.116Z"
   },
   {
    "duration": 0,
    "start_time": "2024-06-01T16:03:47.117Z"
   },
   {
    "duration": 0,
    "start_time": "2024-06-01T16:03:47.118Z"
   },
   {
    "duration": 0,
    "start_time": "2024-06-01T16:03:47.119Z"
   },
   {
    "duration": 0,
    "start_time": "2024-06-01T16:03:47.120Z"
   },
   {
    "duration": 0,
    "start_time": "2024-06-01T16:03:47.121Z"
   },
   {
    "duration": 0,
    "start_time": "2024-06-01T16:03:47.122Z"
   },
   {
    "duration": 0,
    "start_time": "2024-06-01T16:03:47.123Z"
   },
   {
    "duration": 0,
    "start_time": "2024-06-01T16:03:47.124Z"
   },
   {
    "duration": 0,
    "start_time": "2024-06-01T16:03:47.125Z"
   },
   {
    "duration": 0,
    "start_time": "2024-06-01T16:03:47.126Z"
   },
   {
    "duration": 0,
    "start_time": "2024-06-01T16:03:47.127Z"
   },
   {
    "duration": 0,
    "start_time": "2024-06-01T16:03:47.128Z"
   },
   {
    "duration": 0,
    "start_time": "2024-06-01T16:03:47.129Z"
   },
   {
    "duration": 0,
    "start_time": "2024-06-01T16:03:47.130Z"
   },
   {
    "duration": 0,
    "start_time": "2024-06-01T16:03:47.131Z"
   },
   {
    "duration": 0,
    "start_time": "2024-06-01T16:03:47.132Z"
   },
   {
    "duration": 0,
    "start_time": "2024-06-01T16:03:47.133Z"
   },
   {
    "duration": 0,
    "start_time": "2024-06-01T16:03:47.134Z"
   },
   {
    "duration": 0,
    "start_time": "2024-06-01T16:03:47.136Z"
   },
   {
    "duration": 0,
    "start_time": "2024-06-01T16:03:47.136Z"
   },
   {
    "duration": 0,
    "start_time": "2024-06-01T16:03:47.137Z"
   },
   {
    "duration": 0,
    "start_time": "2024-06-01T16:03:47.138Z"
   },
   {
    "duration": 0,
    "start_time": "2024-06-01T16:03:47.140Z"
   },
   {
    "duration": 0,
    "start_time": "2024-06-01T16:03:47.141Z"
   },
   {
    "duration": 0,
    "start_time": "2024-06-01T16:03:47.142Z"
   },
   {
    "duration": 0,
    "start_time": "2024-06-01T16:03:47.143Z"
   },
   {
    "duration": 0,
    "start_time": "2024-06-01T16:03:47.143Z"
   },
   {
    "duration": 0,
    "start_time": "2024-06-01T16:03:47.144Z"
   },
   {
    "duration": 0,
    "start_time": "2024-06-01T16:03:47.145Z"
   },
   {
    "duration": 0,
    "start_time": "2024-06-01T16:03:47.146Z"
   },
   {
    "duration": 5,
    "start_time": "2024-06-01T16:04:09.462Z"
   },
   {
    "duration": 1450,
    "start_time": "2024-06-01T16:04:21.766Z"
   },
   {
    "duration": 5,
    "start_time": "2024-06-01T16:04:42.754Z"
   },
   {
    "duration": 93,
    "start_time": "2024-06-01T16:04:49.046Z"
   },
   {
    "duration": 62,
    "start_time": "2024-06-01T16:05:13.626Z"
   },
   {
    "duration": 4,
    "start_time": "2024-06-01T16:05:49.666Z"
   },
   {
    "duration": 100,
    "start_time": "2024-06-01T16:05:58.525Z"
   },
   {
    "duration": 3,
    "start_time": "2024-06-01T16:22:53.650Z"
   },
   {
    "duration": 23,
    "start_time": "2024-06-01T16:22:57.221Z"
   },
   {
    "duration": 53,
    "start_time": "2024-06-01T16:23:08.117Z"
   },
   {
    "duration": 3,
    "start_time": "2024-06-01T16:23:45.422Z"
   },
   {
    "duration": 47,
    "start_time": "2024-06-01T16:23:49.302Z"
   },
   {
    "duration": 2,
    "start_time": "2024-06-01T16:24:21.858Z"
   },
   {
    "duration": 6,
    "start_time": "2024-06-01T16:24:24.561Z"
   },
   {
    "duration": 3,
    "start_time": "2024-06-01T16:25:31.542Z"
   },
   {
    "duration": 42,
    "start_time": "2024-06-01T16:25:34.096Z"
   },
   {
    "duration": 6,
    "start_time": "2024-06-01T16:40:51.471Z"
   },
   {
    "duration": 182,
    "start_time": "2024-06-01T17:20:36.900Z"
   },
   {
    "duration": 3,
    "start_time": "2024-06-01T17:35:57.615Z"
   },
   {
    "duration": 3,
    "start_time": "2024-06-01T17:36:04.442Z"
   },
   {
    "duration": 4,
    "start_time": "2024-06-01T17:36:52.365Z"
   },
   {
    "duration": 2698,
    "start_time": "2024-06-01T17:37:08.861Z"
   },
   {
    "duration": 10,
    "start_time": "2024-06-01T17:37:26.770Z"
   },
   {
    "duration": 20,
    "start_time": "2024-06-01T17:38:01.173Z"
   },
   {
    "duration": 2632,
    "start_time": "2024-06-01T17:38:06.569Z"
   },
   {
    "duration": 8,
    "start_time": "2024-06-01T17:38:14.941Z"
   },
   {
    "duration": 2692,
    "start_time": "2024-06-01T17:39:53.201Z"
   },
   {
    "duration": 7,
    "start_time": "2024-06-01T17:40:00.293Z"
   },
   {
    "duration": 4,
    "start_time": "2024-06-01T17:41:32.066Z"
   },
   {
    "duration": 211,
    "start_time": "2024-06-01T17:41:36.213Z"
   },
   {
    "duration": 3,
    "start_time": "2024-06-01T17:42:40.185Z"
   },
   {
    "duration": 2909,
    "start_time": "2024-06-01T17:42:52.053Z"
   },
   {
    "duration": 8,
    "start_time": "2024-06-01T17:42:58.033Z"
   },
   {
    "duration": 4,
    "start_time": "2024-06-01T17:45:46.268Z"
   },
   {
    "duration": 2853,
    "start_time": "2024-06-01T17:45:50.745Z"
   },
   {
    "duration": 8,
    "start_time": "2024-06-01T17:45:55.781Z"
   },
   {
    "duration": 2,
    "start_time": "2024-06-01T17:46:58.753Z"
   },
   {
    "duration": 220,
    "start_time": "2024-06-01T17:47:02.264Z"
   },
   {
    "duration": 4,
    "start_time": "2024-06-01T17:47:36.325Z"
   },
   {
    "duration": 211,
    "start_time": "2024-06-01T17:47:39.305Z"
   },
   {
    "duration": 4,
    "start_time": "2024-06-01T17:49:53.720Z"
   },
   {
    "duration": 258,
    "start_time": "2024-06-01T17:50:00.376Z"
   },
   {
    "duration": 4,
    "start_time": "2024-06-01T17:51:15.008Z"
   },
   {
    "duration": 264,
    "start_time": "2024-06-01T17:51:21.208Z"
   },
   {
    "duration": 1690,
    "start_time": "2024-06-01T17:51:40.896Z"
   },
   {
    "duration": 995,
    "start_time": "2024-06-01T17:51:42.588Z"
   },
   {
    "duration": 3,
    "start_time": "2024-06-01T17:51:43.585Z"
   },
   {
    "duration": 42,
    "start_time": "2024-06-01T17:51:43.589Z"
   },
   {
    "duration": 10,
    "start_time": "2024-06-01T17:51:43.633Z"
   },
   {
    "duration": 9,
    "start_time": "2024-06-01T17:51:43.644Z"
   },
   {
    "duration": 3,
    "start_time": "2024-06-01T17:51:43.654Z"
   },
   {
    "duration": 4,
    "start_time": "2024-06-01T17:51:43.658Z"
   },
   {
    "duration": 29,
    "start_time": "2024-06-01T17:51:43.663Z"
   },
   {
    "duration": 4,
    "start_time": "2024-06-01T17:51:43.695Z"
   },
   {
    "duration": 2697,
    "start_time": "2024-06-01T17:51:43.701Z"
   },
   {
    "duration": 1586,
    "start_time": "2024-06-01T17:51:46.400Z"
   },
   {
    "duration": 0,
    "start_time": "2024-06-01T17:51:47.988Z"
   },
   {
    "duration": 0,
    "start_time": "2024-06-01T17:51:47.989Z"
   },
   {
    "duration": 0,
    "start_time": "2024-06-01T17:51:47.990Z"
   },
   {
    "duration": 0,
    "start_time": "2024-06-01T17:51:47.991Z"
   },
   {
    "duration": 0,
    "start_time": "2024-06-01T17:51:47.992Z"
   },
   {
    "duration": 0,
    "start_time": "2024-06-01T17:51:47.993Z"
   },
   {
    "duration": 0,
    "start_time": "2024-06-01T17:51:47.995Z"
   },
   {
    "duration": 0,
    "start_time": "2024-06-01T17:51:47.996Z"
   },
   {
    "duration": 0,
    "start_time": "2024-06-01T17:51:47.997Z"
   },
   {
    "duration": 0,
    "start_time": "2024-06-01T17:51:47.998Z"
   },
   {
    "duration": 0,
    "start_time": "2024-06-01T17:51:48.000Z"
   },
   {
    "duration": 0,
    "start_time": "2024-06-01T17:51:48.001Z"
   },
   {
    "duration": 0,
    "start_time": "2024-06-01T17:51:48.003Z"
   },
   {
    "duration": 0,
    "start_time": "2024-06-01T17:51:48.004Z"
   },
   {
    "duration": 0,
    "start_time": "2024-06-01T17:51:48.005Z"
   },
   {
    "duration": 0,
    "start_time": "2024-06-01T17:51:48.006Z"
   },
   {
    "duration": 0,
    "start_time": "2024-06-01T17:51:48.008Z"
   },
   {
    "duration": 0,
    "start_time": "2024-06-01T17:51:48.009Z"
   },
   {
    "duration": 0,
    "start_time": "2024-06-01T17:51:48.011Z"
   },
   {
    "duration": 0,
    "start_time": "2024-06-01T17:51:48.013Z"
   },
   {
    "duration": 0,
    "start_time": "2024-06-01T17:51:48.014Z"
   },
   {
    "duration": 0,
    "start_time": "2024-06-01T17:51:48.015Z"
   },
   {
    "duration": 0,
    "start_time": "2024-06-01T17:51:48.017Z"
   },
   {
    "duration": 0,
    "start_time": "2024-06-01T17:51:48.019Z"
   },
   {
    "duration": 0,
    "start_time": "2024-06-01T17:51:48.021Z"
   },
   {
    "duration": 0,
    "start_time": "2024-06-01T17:51:48.022Z"
   },
   {
    "duration": 0,
    "start_time": "2024-06-01T17:51:48.023Z"
   },
   {
    "duration": 0,
    "start_time": "2024-06-01T17:51:48.024Z"
   },
   {
    "duration": 0,
    "start_time": "2024-06-01T17:51:48.026Z"
   },
   {
    "duration": 0,
    "start_time": "2024-06-01T17:51:48.027Z"
   },
   {
    "duration": 0,
    "start_time": "2024-06-01T17:51:48.030Z"
   },
   {
    "duration": 0,
    "start_time": "2024-06-01T17:51:48.092Z"
   },
   {
    "duration": 0,
    "start_time": "2024-06-01T17:51:48.093Z"
   },
   {
    "duration": 0,
    "start_time": "2024-06-01T17:51:48.095Z"
   },
   {
    "duration": 0,
    "start_time": "2024-06-01T17:51:48.096Z"
   },
   {
    "duration": 3,
    "start_time": "2024-06-01T17:53:27.388Z"
   },
   {
    "duration": 252,
    "start_time": "2024-06-01T17:53:30.848Z"
   },
   {
    "duration": 2644,
    "start_time": "2024-06-01T17:53:58.008Z"
   },
   {
    "duration": 226,
    "start_time": "2024-06-01T17:54:06.541Z"
   },
   {
    "duration": 3,
    "start_time": "2024-06-01T17:54:32.508Z"
   },
   {
    "duration": 227,
    "start_time": "2024-06-01T17:54:35.700Z"
   },
   {
    "duration": 4,
    "start_time": "2024-06-01T17:55:32.149Z"
   },
   {
    "duration": 214,
    "start_time": "2024-06-01T17:55:40.016Z"
   },
   {
    "duration": 26,
    "start_time": "2024-06-01T18:00:03.580Z"
   },
   {
    "duration": 473,
    "start_time": "2024-06-01T18:00:47.588Z"
   },
   {
    "duration": 130,
    "start_time": "2024-06-01T18:00:58.251Z"
   },
   {
    "duration": 587645,
    "start_time": "2024-06-01T18:01:47.995Z"
   },
   {
    "duration": 13,
    "start_time": "2024-06-01T18:11:41.779Z"
   },
   {
    "duration": 4,
    "start_time": "2024-06-01T18:12:49.060Z"
   },
   {
    "duration": 228,
    "start_time": "2024-06-01T18:12:52.799Z"
   },
   {
    "duration": 4,
    "start_time": "2024-06-01T18:17:47.355Z"
   },
   {
    "duration": 225,
    "start_time": "2024-06-01T18:17:50.451Z"
   },
   {
    "duration": 4,
    "start_time": "2024-06-01T18:18:48.383Z"
   },
   {
    "duration": 241,
    "start_time": "2024-06-01T18:18:51.428Z"
   },
   {
    "duration": 4,
    "start_time": "2024-06-01T18:19:08.007Z"
   },
   {
    "duration": 228,
    "start_time": "2024-06-01T18:19:12.770Z"
   },
   {
    "duration": 4,
    "start_time": "2024-06-01T18:19:44.827Z"
   },
   {
    "duration": 250,
    "start_time": "2024-06-01T18:19:47.187Z"
   },
   {
    "duration": 1764,
    "start_time": "2024-06-01T18:20:00.913Z"
   },
   {
    "duration": 1165,
    "start_time": "2024-06-01T18:20:02.679Z"
   },
   {
    "duration": 2,
    "start_time": "2024-06-01T18:20:03.846Z"
   },
   {
    "duration": 296,
    "start_time": "2024-06-01T18:20:03.850Z"
   },
   {
    "duration": 22,
    "start_time": "2024-06-01T18:20:04.148Z"
   },
   {
    "duration": 26,
    "start_time": "2024-06-01T18:20:04.172Z"
   },
   {
    "duration": 3,
    "start_time": "2024-06-01T18:20:04.200Z"
   },
   {
    "duration": 4,
    "start_time": "2024-06-01T18:20:04.205Z"
   },
   {
    "duration": 12,
    "start_time": "2024-06-01T18:20:04.212Z"
   },
   {
    "duration": 27,
    "start_time": "2024-06-01T18:20:04.227Z"
   },
   {
    "duration": 8,
    "start_time": "2024-06-01T18:20:04.256Z"
   },
   {
    "duration": 3013,
    "start_time": "2024-06-01T18:20:04.265Z"
   },
   {
    "duration": 20695,
    "start_time": "2024-06-01T18:20:07.291Z"
   },
   {
    "duration": 0,
    "start_time": "2024-06-01T18:20:27.989Z"
   },
   {
    "duration": 0,
    "start_time": "2024-06-01T18:20:27.990Z"
   },
   {
    "duration": 0,
    "start_time": "2024-06-01T18:20:27.992Z"
   },
   {
    "duration": 0,
    "start_time": "2024-06-01T18:20:27.994Z"
   },
   {
    "duration": 0,
    "start_time": "2024-06-01T18:20:27.995Z"
   },
   {
    "duration": 0,
    "start_time": "2024-06-01T18:20:27.996Z"
   },
   {
    "duration": 0,
    "start_time": "2024-06-01T18:20:27.997Z"
   },
   {
    "duration": 0,
    "start_time": "2024-06-01T18:20:27.999Z"
   },
   {
    "duration": 0,
    "start_time": "2024-06-01T18:20:28.000Z"
   },
   {
    "duration": 0,
    "start_time": "2024-06-01T18:20:28.001Z"
   },
   {
    "duration": 1,
    "start_time": "2024-06-01T18:20:28.002Z"
   },
   {
    "duration": 0,
    "start_time": "2024-06-01T18:20:28.004Z"
   },
   {
    "duration": 0,
    "start_time": "2024-06-01T18:20:28.006Z"
   },
   {
    "duration": 0,
    "start_time": "2024-06-01T18:20:28.007Z"
   },
   {
    "duration": 0,
    "start_time": "2024-06-01T18:20:28.008Z"
   },
   {
    "duration": 0,
    "start_time": "2024-06-01T18:20:28.010Z"
   },
   {
    "duration": 0,
    "start_time": "2024-06-01T18:20:28.011Z"
   },
   {
    "duration": 0,
    "start_time": "2024-06-01T18:20:28.012Z"
   },
   {
    "duration": 0,
    "start_time": "2024-06-01T18:20:28.014Z"
   },
   {
    "duration": 0,
    "start_time": "2024-06-01T18:20:28.016Z"
   },
   {
    "duration": 0,
    "start_time": "2024-06-01T18:20:28.017Z"
   },
   {
    "duration": 0,
    "start_time": "2024-06-01T18:20:28.018Z"
   },
   {
    "duration": 0,
    "start_time": "2024-06-01T18:20:28.019Z"
   },
   {
    "duration": 0,
    "start_time": "2024-06-01T18:20:28.020Z"
   },
   {
    "duration": 0,
    "start_time": "2024-06-01T18:20:28.021Z"
   },
   {
    "duration": 0,
    "start_time": "2024-06-01T18:20:28.022Z"
   },
   {
    "duration": 0,
    "start_time": "2024-06-01T18:20:28.023Z"
   },
   {
    "duration": 0,
    "start_time": "2024-06-01T18:20:28.024Z"
   },
   {
    "duration": 0,
    "start_time": "2024-06-01T18:20:28.025Z"
   },
   {
    "duration": 0,
    "start_time": "2024-06-01T18:20:28.028Z"
   },
   {
    "duration": 0,
    "start_time": "2024-06-01T18:20:28.029Z"
   },
   {
    "duration": 0,
    "start_time": "2024-06-01T18:20:28.030Z"
   },
   {
    "duration": 0,
    "start_time": "2024-06-01T18:20:28.032Z"
   },
   {
    "duration": 0,
    "start_time": "2024-06-01T18:20:28.033Z"
   },
   {
    "duration": 0,
    "start_time": "2024-06-01T18:20:28.035Z"
   },
   {
    "duration": 1551,
    "start_time": "2024-06-01T18:21:48.432Z"
   },
   {
    "duration": 993,
    "start_time": "2024-06-01T18:21:49.985Z"
   },
   {
    "duration": 3,
    "start_time": "2024-06-01T18:21:50.982Z"
   },
   {
    "duration": 55,
    "start_time": "2024-06-01T18:21:50.991Z"
   },
   {
    "duration": 19,
    "start_time": "2024-06-01T18:21:51.048Z"
   },
   {
    "duration": 19,
    "start_time": "2024-06-01T18:21:51.069Z"
   },
   {
    "duration": 16,
    "start_time": "2024-06-01T18:21:51.089Z"
   },
   {
    "duration": 5,
    "start_time": "2024-06-01T18:21:51.106Z"
   },
   {
    "duration": 10,
    "start_time": "2024-06-01T18:21:51.112Z"
   },
   {
    "duration": 21,
    "start_time": "2024-06-01T18:21:51.124Z"
   },
   {
    "duration": 5,
    "start_time": "2024-06-01T18:21:51.147Z"
   },
   {
    "duration": 2663,
    "start_time": "2024-06-01T18:21:51.154Z"
   },
   {
    "duration": 1787,
    "start_time": "2024-06-01T18:21:53.820Z"
   },
   {
    "duration": 0,
    "start_time": "2024-06-01T18:21:55.609Z"
   },
   {
    "duration": 0,
    "start_time": "2024-06-01T18:21:55.610Z"
   },
   {
    "duration": 0,
    "start_time": "2024-06-01T18:21:55.611Z"
   },
   {
    "duration": 0,
    "start_time": "2024-06-01T18:21:55.612Z"
   },
   {
    "duration": 0,
    "start_time": "2024-06-01T18:21:55.613Z"
   },
   {
    "duration": 0,
    "start_time": "2024-06-01T18:21:55.614Z"
   },
   {
    "duration": 0,
    "start_time": "2024-06-01T18:21:55.615Z"
   },
   {
    "duration": 0,
    "start_time": "2024-06-01T18:21:55.616Z"
   },
   {
    "duration": 0,
    "start_time": "2024-06-01T18:21:55.617Z"
   },
   {
    "duration": 0,
    "start_time": "2024-06-01T18:21:55.619Z"
   },
   {
    "duration": 0,
    "start_time": "2024-06-01T18:21:55.620Z"
   },
   {
    "duration": 0,
    "start_time": "2024-06-01T18:21:55.621Z"
   },
   {
    "duration": 0,
    "start_time": "2024-06-01T18:21:55.622Z"
   },
   {
    "duration": 0,
    "start_time": "2024-06-01T18:21:55.623Z"
   },
   {
    "duration": 0,
    "start_time": "2024-06-01T18:21:55.624Z"
   },
   {
    "duration": 0,
    "start_time": "2024-06-01T18:21:55.625Z"
   },
   {
    "duration": 0,
    "start_time": "2024-06-01T18:21:55.626Z"
   },
   {
    "duration": 0,
    "start_time": "2024-06-01T18:21:55.628Z"
   },
   {
    "duration": 0,
    "start_time": "2024-06-01T18:21:55.629Z"
   },
   {
    "duration": 0,
    "start_time": "2024-06-01T18:21:55.630Z"
   },
   {
    "duration": 0,
    "start_time": "2024-06-01T18:21:55.631Z"
   },
   {
    "duration": 0,
    "start_time": "2024-06-01T18:21:55.632Z"
   },
   {
    "duration": 0,
    "start_time": "2024-06-01T18:21:55.633Z"
   },
   {
    "duration": 0,
    "start_time": "2024-06-01T18:21:55.634Z"
   },
   {
    "duration": 0,
    "start_time": "2024-06-01T18:21:55.635Z"
   },
   {
    "duration": 0,
    "start_time": "2024-06-01T18:21:55.636Z"
   },
   {
    "duration": 0,
    "start_time": "2024-06-01T18:21:55.637Z"
   },
   {
    "duration": 0,
    "start_time": "2024-06-01T18:21:55.638Z"
   },
   {
    "duration": 0,
    "start_time": "2024-06-01T18:21:55.640Z"
   },
   {
    "duration": 0,
    "start_time": "2024-06-01T18:21:55.641Z"
   },
   {
    "duration": 0,
    "start_time": "2024-06-01T18:21:55.642Z"
   },
   {
    "duration": 0,
    "start_time": "2024-06-01T18:21:55.643Z"
   },
   {
    "duration": 0,
    "start_time": "2024-06-01T18:21:55.644Z"
   },
   {
    "duration": 0,
    "start_time": "2024-06-01T18:21:55.645Z"
   },
   {
    "duration": 0,
    "start_time": "2024-06-01T18:21:55.646Z"
   },
   {
    "duration": 5,
    "start_time": "2024-06-01T18:22:19.355Z"
   },
   {
    "duration": 212,
    "start_time": "2024-06-01T18:22:22.387Z"
   },
   {
    "duration": 1646,
    "start_time": "2024-06-01T18:23:43.370Z"
   },
   {
    "duration": 995,
    "start_time": "2024-06-01T18:23:45.019Z"
   },
   {
    "duration": 3,
    "start_time": "2024-06-01T18:23:46.015Z"
   },
   {
    "duration": 57,
    "start_time": "2024-06-01T18:23:46.020Z"
   },
   {
    "duration": 12,
    "start_time": "2024-06-01T18:23:46.080Z"
   },
   {
    "duration": 37,
    "start_time": "2024-06-01T18:23:46.094Z"
   },
   {
    "duration": 20,
    "start_time": "2024-06-01T18:23:46.133Z"
   },
   {
    "duration": 36,
    "start_time": "2024-06-01T18:23:46.155Z"
   },
   {
    "duration": 35,
    "start_time": "2024-06-01T18:23:46.193Z"
   },
   {
    "duration": 22,
    "start_time": "2024-06-01T18:23:46.229Z"
   },
   {
    "duration": 47,
    "start_time": "2024-06-01T18:23:46.252Z"
   },
   {
    "duration": 2706,
    "start_time": "2024-06-01T18:23:46.300Z"
   },
   {
    "duration": 283754,
    "start_time": "2024-06-01T18:23:49.008Z"
   },
   {
    "duration": 0,
    "start_time": "2024-06-01T18:28:32.765Z"
   },
   {
    "duration": 0,
    "start_time": "2024-06-01T18:28:32.767Z"
   },
   {
    "duration": 0,
    "start_time": "2024-06-01T18:28:32.768Z"
   },
   {
    "duration": 1,
    "start_time": "2024-06-01T18:28:32.769Z"
   },
   {
    "duration": 0,
    "start_time": "2024-06-01T18:28:32.771Z"
   },
   {
    "duration": 0,
    "start_time": "2024-06-01T18:28:32.772Z"
   },
   {
    "duration": 0,
    "start_time": "2024-06-01T18:28:32.773Z"
   },
   {
    "duration": 0,
    "start_time": "2024-06-01T18:28:32.774Z"
   },
   {
    "duration": 0,
    "start_time": "2024-06-01T18:28:32.775Z"
   },
   {
    "duration": 0,
    "start_time": "2024-06-01T18:28:32.777Z"
   },
   {
    "duration": 0,
    "start_time": "2024-06-01T18:28:32.778Z"
   },
   {
    "duration": 0,
    "start_time": "2024-06-01T18:28:32.779Z"
   },
   {
    "duration": 0,
    "start_time": "2024-06-01T18:28:32.780Z"
   },
   {
    "duration": 0,
    "start_time": "2024-06-01T18:28:32.782Z"
   },
   {
    "duration": 0,
    "start_time": "2024-06-01T18:28:32.783Z"
   },
   {
    "duration": 0,
    "start_time": "2024-06-01T18:28:32.784Z"
   },
   {
    "duration": 0,
    "start_time": "2024-06-01T18:28:32.785Z"
   },
   {
    "duration": 0,
    "start_time": "2024-06-01T18:28:32.786Z"
   },
   {
    "duration": 0,
    "start_time": "2024-06-01T18:28:32.787Z"
   },
   {
    "duration": 0,
    "start_time": "2024-06-01T18:28:32.788Z"
   },
   {
    "duration": 0,
    "start_time": "2024-06-01T18:28:32.789Z"
   },
   {
    "duration": 0,
    "start_time": "2024-06-01T18:28:32.790Z"
   },
   {
    "duration": 0,
    "start_time": "2024-06-01T18:28:32.791Z"
   },
   {
    "duration": 0,
    "start_time": "2024-06-01T18:28:32.792Z"
   },
   {
    "duration": 0,
    "start_time": "2024-06-01T18:28:32.793Z"
   },
   {
    "duration": 0,
    "start_time": "2024-06-01T18:28:32.794Z"
   },
   {
    "duration": 0,
    "start_time": "2024-06-01T18:28:32.795Z"
   },
   {
    "duration": 0,
    "start_time": "2024-06-01T18:28:32.796Z"
   },
   {
    "duration": 0,
    "start_time": "2024-06-01T18:28:32.797Z"
   },
   {
    "duration": 0,
    "start_time": "2024-06-01T18:28:32.798Z"
   },
   {
    "duration": 0,
    "start_time": "2024-06-01T18:28:32.799Z"
   },
   {
    "duration": 0,
    "start_time": "2024-06-01T18:28:32.800Z"
   },
   {
    "duration": 0,
    "start_time": "2024-06-01T18:28:32.801Z"
   },
   {
    "duration": 0,
    "start_time": "2024-06-01T18:28:32.802Z"
   },
   {
    "duration": 0,
    "start_time": "2024-06-01T18:28:32.803Z"
   },
   {
    "duration": 1640,
    "start_time": "2024-06-01T18:45:38.579Z"
   },
   {
    "duration": 1002,
    "start_time": "2024-06-01T18:45:40.221Z"
   },
   {
    "duration": 4,
    "start_time": "2024-06-01T18:45:41.224Z"
   },
   {
    "duration": 51,
    "start_time": "2024-06-01T18:45:41.229Z"
   },
   {
    "duration": 14,
    "start_time": "2024-06-01T18:45:41.282Z"
   },
   {
    "duration": 17,
    "start_time": "2024-06-01T18:45:41.298Z"
   },
   {
    "duration": 3,
    "start_time": "2024-06-01T18:45:41.316Z"
   },
   {
    "duration": 13,
    "start_time": "2024-06-01T18:45:41.321Z"
   },
   {
    "duration": 18,
    "start_time": "2024-06-01T18:45:41.335Z"
   },
   {
    "duration": 2638,
    "start_time": "2024-06-01T18:45:41.354Z"
   },
   {
    "duration": 584466,
    "start_time": "2024-06-01T18:45:43.994Z"
   },
   {
    "duration": 7,
    "start_time": "2024-06-01T18:55:28.463Z"
   },
   {
    "duration": 21,
    "start_time": "2024-06-01T18:55:28.471Z"
   },
   {
    "duration": 31,
    "start_time": "2024-06-01T18:55:28.495Z"
   },
   {
    "duration": 5,
    "start_time": "2024-06-01T18:55:28.527Z"
   },
   {
    "duration": 34,
    "start_time": "2024-06-01T18:55:28.533Z"
   },
   {
    "duration": 4,
    "start_time": "2024-06-01T18:55:28.569Z"
   },
   {
    "duration": 22,
    "start_time": "2024-06-01T18:55:28.574Z"
   },
   {
    "duration": 16,
    "start_time": "2024-06-01T18:55:28.597Z"
   },
   {
    "duration": 132,
    "start_time": "2024-06-01T18:55:28.614Z"
   },
   {
    "duration": 0,
    "start_time": "2024-06-01T18:55:28.748Z"
   },
   {
    "duration": 0,
    "start_time": "2024-06-01T18:55:28.749Z"
   },
   {
    "duration": 0,
    "start_time": "2024-06-01T18:55:28.750Z"
   },
   {
    "duration": 0,
    "start_time": "2024-06-01T18:55:28.752Z"
   },
   {
    "duration": 0,
    "start_time": "2024-06-01T18:55:28.752Z"
   },
   {
    "duration": 0,
    "start_time": "2024-06-01T18:55:28.754Z"
   },
   {
    "duration": 0,
    "start_time": "2024-06-01T18:55:28.755Z"
   },
   {
    "duration": 0,
    "start_time": "2024-06-01T18:55:28.756Z"
   },
   {
    "duration": 0,
    "start_time": "2024-06-01T18:55:28.757Z"
   },
   {
    "duration": 0,
    "start_time": "2024-06-01T18:55:28.758Z"
   },
   {
    "duration": 0,
    "start_time": "2024-06-01T18:55:28.759Z"
   },
   {
    "duration": 0,
    "start_time": "2024-06-01T18:55:28.761Z"
   },
   {
    "duration": 0,
    "start_time": "2024-06-01T18:55:28.762Z"
   },
   {
    "duration": 0,
    "start_time": "2024-06-01T18:55:28.763Z"
   },
   {
    "duration": 0,
    "start_time": "2024-06-01T18:55:28.764Z"
   },
   {
    "duration": 0,
    "start_time": "2024-06-01T18:55:28.765Z"
   },
   {
    "duration": 0,
    "start_time": "2024-06-01T18:55:28.766Z"
   },
   {
    "duration": 0,
    "start_time": "2024-06-01T18:55:28.767Z"
   },
   {
    "duration": 0,
    "start_time": "2024-06-01T18:55:28.792Z"
   },
   {
    "duration": 0,
    "start_time": "2024-06-01T18:55:28.793Z"
   },
   {
    "duration": 0,
    "start_time": "2024-06-01T18:55:28.794Z"
   },
   {
    "duration": 0,
    "start_time": "2024-06-01T18:55:28.795Z"
   },
   {
    "duration": 0,
    "start_time": "2024-06-01T18:55:28.797Z"
   },
   {
    "duration": 0,
    "start_time": "2024-06-01T18:55:28.798Z"
   },
   {
    "duration": 0,
    "start_time": "2024-06-01T18:55:28.799Z"
   },
   {
    "duration": 0,
    "start_time": "2024-06-01T18:55:28.800Z"
   },
   {
    "duration": 0,
    "start_time": "2024-06-01T18:55:28.801Z"
   },
   {
    "duration": 8,
    "start_time": "2024-06-01T18:57:30.659Z"
   },
   {
    "duration": 11,
    "start_time": "2024-06-01T18:59:12.702Z"
   },
   {
    "duration": 15,
    "start_time": "2024-06-01T18:59:38.698Z"
   },
   {
    "duration": 24,
    "start_time": "2024-06-01T19:00:04.326Z"
   },
   {
    "duration": 5,
    "start_time": "2024-06-01T19:01:00.578Z"
   },
   {
    "duration": 4,
    "start_time": "2024-06-01T19:01:32.618Z"
   },
   {
    "duration": 1686,
    "start_time": "2024-06-01T19:01:49.674Z"
   },
   {
    "duration": 991,
    "start_time": "2024-06-01T19:01:51.361Z"
   },
   {
    "duration": 3,
    "start_time": "2024-06-01T19:01:52.353Z"
   },
   {
    "duration": 62,
    "start_time": "2024-06-01T19:01:52.358Z"
   },
   {
    "duration": 10,
    "start_time": "2024-06-01T19:01:52.422Z"
   },
   {
    "duration": 50,
    "start_time": "2024-06-01T19:01:52.434Z"
   },
   {
    "duration": 17,
    "start_time": "2024-06-01T19:01:52.486Z"
   },
   {
    "duration": 18,
    "start_time": "2024-06-01T19:01:52.504Z"
   },
   {
    "duration": 59,
    "start_time": "2024-06-01T19:01:52.523Z"
   },
   {
    "duration": 2711,
    "start_time": "2024-06-01T19:01:52.584Z"
   },
   {
    "duration": 15637,
    "start_time": "2024-06-01T19:01:55.296Z"
   },
   {
    "duration": 0,
    "start_time": "2024-06-01T19:02:10.936Z"
   },
   {
    "duration": 0,
    "start_time": "2024-06-01T19:02:10.937Z"
   },
   {
    "duration": 0,
    "start_time": "2024-06-01T19:02:10.938Z"
   },
   {
    "duration": 0,
    "start_time": "2024-06-01T19:02:10.939Z"
   },
   {
    "duration": 0,
    "start_time": "2024-06-01T19:02:10.940Z"
   },
   {
    "duration": 0,
    "start_time": "2024-06-01T19:02:10.941Z"
   },
   {
    "duration": 0,
    "start_time": "2024-06-01T19:02:10.942Z"
   },
   {
    "duration": 0,
    "start_time": "2024-06-01T19:02:10.943Z"
   },
   {
    "duration": 0,
    "start_time": "2024-06-01T19:02:10.944Z"
   },
   {
    "duration": 0,
    "start_time": "2024-06-01T19:02:10.945Z"
   },
   {
    "duration": 0,
    "start_time": "2024-06-01T19:02:10.946Z"
   },
   {
    "duration": 0,
    "start_time": "2024-06-01T19:02:10.947Z"
   },
   {
    "duration": 0,
    "start_time": "2024-06-01T19:02:10.948Z"
   },
   {
    "duration": 0,
    "start_time": "2024-06-01T19:02:10.949Z"
   },
   {
    "duration": 0,
    "start_time": "2024-06-01T19:02:10.950Z"
   },
   {
    "duration": 0,
    "start_time": "2024-06-01T19:02:10.951Z"
   },
   {
    "duration": 0,
    "start_time": "2024-06-01T19:02:10.952Z"
   },
   {
    "duration": 0,
    "start_time": "2024-06-01T19:02:10.953Z"
   },
   {
    "duration": 0,
    "start_time": "2024-06-01T19:02:10.954Z"
   },
   {
    "duration": 0,
    "start_time": "2024-06-01T19:02:10.957Z"
   },
   {
    "duration": 0,
    "start_time": "2024-06-01T19:02:10.958Z"
   },
   {
    "duration": 0,
    "start_time": "2024-06-01T19:02:10.959Z"
   },
   {
    "duration": 0,
    "start_time": "2024-06-01T19:02:10.960Z"
   },
   {
    "duration": 0,
    "start_time": "2024-06-01T19:02:10.961Z"
   },
   {
    "duration": 0,
    "start_time": "2024-06-01T19:02:10.961Z"
   },
   {
    "duration": 0,
    "start_time": "2024-06-01T19:02:10.962Z"
   },
   {
    "duration": 0,
    "start_time": "2024-06-01T19:02:10.963Z"
   },
   {
    "duration": 0,
    "start_time": "2024-06-01T19:02:10.965Z"
   },
   {
    "duration": 0,
    "start_time": "2024-06-01T19:02:10.965Z"
   },
   {
    "duration": 0,
    "start_time": "2024-06-01T19:02:10.967Z"
   },
   {
    "duration": 0,
    "start_time": "2024-06-01T19:02:10.968Z"
   },
   {
    "duration": 0,
    "start_time": "2024-06-01T19:02:10.969Z"
   },
   {
    "duration": 0,
    "start_time": "2024-06-01T19:02:10.970Z"
   },
   {
    "duration": 0,
    "start_time": "2024-06-01T19:02:10.971Z"
   },
   {
    "duration": 0,
    "start_time": "2024-06-01T19:02:10.992Z"
   },
   {
    "duration": 0,
    "start_time": "2024-06-01T19:02:10.993Z"
   },
   {
    "duration": 0,
    "start_time": "2024-06-01T19:02:10.994Z"
   },
   {
    "duration": 0,
    "start_time": "2024-06-01T19:02:10.995Z"
   },
   {
    "duration": 0,
    "start_time": "2024-06-01T19:02:10.996Z"
   },
   {
    "duration": 1562,
    "start_time": "2024-06-01T19:02:35.461Z"
   },
   {
    "duration": 996,
    "start_time": "2024-06-01T19:02:37.024Z"
   },
   {
    "duration": 3,
    "start_time": "2024-06-01T19:02:38.021Z"
   },
   {
    "duration": 60,
    "start_time": "2024-06-01T19:02:38.026Z"
   },
   {
    "duration": 16,
    "start_time": "2024-06-01T19:02:38.088Z"
   },
   {
    "duration": 9,
    "start_time": "2024-06-01T19:02:38.106Z"
   },
   {
    "duration": 7,
    "start_time": "2024-06-01T19:02:38.117Z"
   },
   {
    "duration": 10,
    "start_time": "2024-06-01T19:02:38.125Z"
   },
   {
    "duration": 14,
    "start_time": "2024-06-01T19:02:38.137Z"
   },
   {
    "duration": 2763,
    "start_time": "2024-06-01T19:02:38.154Z"
   },
   {
    "duration": 574057,
    "start_time": "2024-06-01T19:02:40.918Z"
   },
   {
    "duration": 22,
    "start_time": "2024-06-01T19:12:14.976Z"
   },
   {
    "duration": 119,
    "start_time": "2024-06-01T19:12:15.000Z"
   },
   {
    "duration": 22,
    "start_time": "2024-06-01T19:12:15.121Z"
   },
   {
    "duration": 56,
    "start_time": "2024-06-01T19:12:15.144Z"
   },
   {
    "duration": 53,
    "start_time": "2024-06-01T19:12:15.201Z"
   },
   {
    "duration": 45,
    "start_time": "2024-06-01T19:12:15.256Z"
   },
   {
    "duration": 6,
    "start_time": "2024-06-01T19:12:15.303Z"
   },
   {
    "duration": 104,
    "start_time": "2024-06-01T19:12:15.310Z"
   },
   {
    "duration": 29,
    "start_time": "2024-06-01T19:12:15.416Z"
   },
   {
    "duration": 38,
    "start_time": "2024-06-01T19:12:15.446Z"
   },
   {
    "duration": 36,
    "start_time": "2024-06-01T19:12:15.486Z"
   },
   {
    "duration": 1634,
    "start_time": "2024-06-01T19:12:15.524Z"
   },
   {
    "duration": 2850,
    "start_time": "2024-06-01T19:12:17.160Z"
   },
   {
    "duration": 2937,
    "start_time": "2024-06-01T19:12:20.012Z"
   },
   {
    "duration": 4,
    "start_time": "2024-06-01T19:12:22.951Z"
   },
   {
    "duration": 45,
    "start_time": "2024-06-01T19:12:22.956Z"
   },
   {
    "duration": 1568,
    "start_time": "2024-06-01T19:12:23.005Z"
   },
   {
    "duration": 2917,
    "start_time": "2024-06-01T19:12:24.574Z"
   },
   {
    "duration": 2872,
    "start_time": "2024-06-01T19:12:27.493Z"
   },
   {
    "duration": 4,
    "start_time": "2024-06-01T19:12:30.367Z"
   },
   {
    "duration": 90,
    "start_time": "2024-06-01T19:12:30.372Z"
   },
   {
    "duration": 103,
    "start_time": "2024-06-01T19:12:30.463Z"
   },
   {
    "duration": 1911,
    "start_time": "2024-06-01T19:12:30.567Z"
   },
   {
    "duration": 2749,
    "start_time": "2024-06-01T19:12:32.479Z"
   },
   {
    "duration": 2722,
    "start_time": "2024-06-01T19:12:35.230Z"
   },
   {
    "duration": 4,
    "start_time": "2024-06-01T19:12:37.953Z"
   },
   {
    "duration": 30,
    "start_time": "2024-06-01T19:12:37.959Z"
   },
   {
    "duration": 1419,
    "start_time": "2024-06-01T19:12:37.991Z"
   },
   {
    "duration": 2680,
    "start_time": "2024-06-01T19:12:39.411Z"
   },
   {
    "duration": 2678,
    "start_time": "2024-06-01T19:12:42.093Z"
   },
   {
    "duration": 4,
    "start_time": "2024-06-01T19:12:44.773Z"
   },
   {
    "duration": 14836,
    "start_time": "2024-06-01T19:12:44.778Z"
   },
   {
    "duration": 63897,
    "start_time": "2024-06-01T19:12:59.616Z"
   },
   {
    "duration": 9212,
    "start_time": "2024-06-01T19:14:03.515Z"
   },
   {
    "duration": 6873,
    "start_time": "2024-06-01T19:14:12.729Z"
   },
   {
    "duration": 0,
    "start_time": "2024-06-01T19:14:19.603Z"
   },
   {
    "duration": 0,
    "start_time": "2024-06-01T19:14:19.604Z"
   },
   {
    "duration": 0,
    "start_time": "2024-06-01T19:14:19.606Z"
   },
   {
    "duration": 0,
    "start_time": "2024-06-01T19:14:19.607Z"
   },
   {
    "duration": 1483,
    "start_time": "2024-06-01T19:15:22.839Z"
   },
   {
    "duration": 948,
    "start_time": "2024-06-01T19:15:24.324Z"
   },
   {
    "duration": 3,
    "start_time": "2024-06-01T19:15:25.274Z"
   },
   {
    "duration": 58,
    "start_time": "2024-06-01T19:15:25.279Z"
   },
   {
    "duration": 10,
    "start_time": "2024-06-01T19:15:25.339Z"
   },
   {
    "duration": 21,
    "start_time": "2024-06-01T19:15:25.351Z"
   },
   {
    "duration": 8,
    "start_time": "2024-06-01T19:15:25.374Z"
   },
   {
    "duration": 4,
    "start_time": "2024-06-01T19:15:25.384Z"
   },
   {
    "duration": 6,
    "start_time": "2024-06-01T19:15:25.390Z"
   },
   {
    "duration": 2621,
    "start_time": "2024-06-01T19:15:25.399Z"
   },
   {
    "duration": 574743,
    "start_time": "2024-06-01T19:15:28.022Z"
   },
   {
    "duration": 12,
    "start_time": "2024-06-01T19:25:02.766Z"
   },
   {
    "duration": 39,
    "start_time": "2024-06-01T19:25:02.792Z"
   },
   {
    "duration": 29,
    "start_time": "2024-06-01T19:25:02.833Z"
   },
   {
    "duration": 18,
    "start_time": "2024-06-01T19:25:02.864Z"
   },
   {
    "duration": 45,
    "start_time": "2024-06-01T19:25:02.884Z"
   },
   {
    "duration": 3,
    "start_time": "2024-06-01T19:25:02.931Z"
   },
   {
    "duration": 33,
    "start_time": "2024-06-01T19:25:02.936Z"
   },
   {
    "duration": 22,
    "start_time": "2024-06-01T19:25:02.971Z"
   },
   {
    "duration": 43,
    "start_time": "2024-06-01T19:25:02.994Z"
   },
   {
    "duration": 20,
    "start_time": "2024-06-01T19:25:03.039Z"
   },
   {
    "duration": 6150,
    "start_time": "2024-06-01T19:25:03.061Z"
   },
   {
    "duration": 725,
    "start_time": "2024-06-01T19:25:09.213Z"
   },
   {
    "duration": 791,
    "start_time": "2024-06-01T19:25:09.939Z"
   },
   {
    "duration": 4,
    "start_time": "2024-06-01T19:25:10.731Z"
   },
   {
    "duration": 20,
    "start_time": "2024-06-01T19:25:10.737Z"
   },
   {
    "duration": 6103,
    "start_time": "2024-06-01T19:25:10.759Z"
   },
   {
    "duration": 753,
    "start_time": "2024-06-01T19:25:16.867Z"
   },
   {
    "duration": 768,
    "start_time": "2024-06-01T19:25:17.622Z"
   },
   {
    "duration": 4,
    "start_time": "2024-06-01T19:25:18.391Z"
   },
   {
    "duration": 13,
    "start_time": "2024-06-01T19:25:18.396Z"
   },
   {
    "duration": 2,
    "start_time": "2024-06-01T19:25:18.411Z"
   },
   {
    "duration": 5937,
    "start_time": "2024-06-01T19:25:18.415Z"
   },
   {
    "duration": 690,
    "start_time": "2024-06-01T19:25:24.354Z"
   },
   {
    "duration": 738,
    "start_time": "2024-06-01T19:25:25.046Z"
   },
   {
    "duration": 7,
    "start_time": "2024-06-01T19:25:25.785Z"
   },
   {
    "duration": 2,
    "start_time": "2024-06-01T19:25:25.794Z"
   },
   {
    "duration": 5896,
    "start_time": "2024-06-01T19:25:25.797Z"
   },
   {
    "duration": 748,
    "start_time": "2024-06-01T19:25:31.695Z"
   },
   {
    "duration": 722,
    "start_time": "2024-06-01T19:25:32.444Z"
   },
   {
    "duration": 5,
    "start_time": "2024-06-01T19:25:33.167Z"
   },
   {
    "duration": 43029,
    "start_time": "2024-06-01T19:25:33.174Z"
   },
   {
    "duration": 423593,
    "start_time": "2024-06-01T19:26:16.204Z"
   },
   {
    "duration": 49900,
    "start_time": "2024-06-01T19:33:19.799Z"
   },
   {
    "duration": 269192,
    "start_time": "2024-06-01T19:34:09.701Z"
   },
   {
    "duration": 187,
    "start_time": "2024-06-01T19:38:38.896Z"
   },
   {
    "duration": 63,
    "start_time": "2024-06-01T19:38:39.085Z"
   },
   {
    "duration": 14,
    "start_time": "2024-06-01T19:38:39.150Z"
   },
   {
    "duration": 425835,
    "start_time": "2024-06-01T19:38:39.166Z"
   },
   {
    "duration": 500873,
    "start_time": "2024-06-01T19:47:41.621Z"
   },
   {
    "duration": 1662,
    "start_time": "2024-06-01T20:01:00.224Z"
   },
   {
    "duration": 1010,
    "start_time": "2024-06-01T20:01:01.888Z"
   },
   {
    "duration": 3,
    "start_time": "2024-06-01T20:01:02.900Z"
   },
   {
    "duration": 97,
    "start_time": "2024-06-01T20:01:02.905Z"
   },
   {
    "duration": 21,
    "start_time": "2024-06-01T20:01:03.004Z"
   },
   {
    "duration": 78,
    "start_time": "2024-06-01T20:01:03.027Z"
   },
   {
    "duration": 25,
    "start_time": "2024-06-01T20:01:03.107Z"
   },
   {
    "duration": 26,
    "start_time": "2024-06-01T20:01:03.134Z"
   },
   {
    "duration": 93,
    "start_time": "2024-06-01T20:01:03.162Z"
   },
   {
    "duration": 3134,
    "start_time": "2024-06-01T20:01:03.259Z"
   },
   {
    "duration": 598634,
    "start_time": "2024-06-01T20:01:06.394Z"
   },
   {
    "duration": 13,
    "start_time": "2024-06-01T20:11:05.031Z"
   },
   {
    "duration": 11,
    "start_time": "2024-06-01T20:11:05.046Z"
   },
   {
    "duration": 34,
    "start_time": "2024-06-01T20:11:05.059Z"
   },
   {
    "duration": 3,
    "start_time": "2024-06-01T20:11:05.095Z"
   },
   {
    "duration": 38,
    "start_time": "2024-06-01T20:11:05.100Z"
   },
   {
    "duration": 5,
    "start_time": "2024-06-01T20:11:05.140Z"
   },
   {
    "duration": 12,
    "start_time": "2024-06-01T20:11:05.147Z"
   },
   {
    "duration": 5,
    "start_time": "2024-06-01T20:11:05.160Z"
   },
   {
    "duration": 27,
    "start_time": "2024-06-01T20:11:05.167Z"
   },
   {
    "duration": 58,
    "start_time": "2024-06-01T20:11:05.196Z"
   },
   {
    "duration": 6659,
    "start_time": "2024-06-01T20:11:05.256Z"
   },
   {
    "duration": 738,
    "start_time": "2024-06-01T20:11:11.917Z"
   },
   {
    "duration": 805,
    "start_time": "2024-06-01T20:11:12.657Z"
   },
   {
    "duration": 4,
    "start_time": "2024-06-01T20:11:13.464Z"
   },
   {
    "duration": 15,
    "start_time": "2024-06-01T20:11:13.469Z"
   },
   {
    "duration": 6333,
    "start_time": "2024-06-01T20:11:13.488Z"
   },
   {
    "duration": 802,
    "start_time": "2024-06-01T20:11:19.824Z"
   },
   {
    "duration": 856,
    "start_time": "2024-06-01T20:11:20.628Z"
   },
   {
    "duration": 5,
    "start_time": "2024-06-01T20:11:21.487Z"
   },
   {
    "duration": 27,
    "start_time": "2024-06-01T20:11:21.494Z"
   },
   {
    "duration": 10,
    "start_time": "2024-06-01T20:11:21.524Z"
   },
   {
    "duration": 6365,
    "start_time": "2024-06-01T20:11:21.537Z"
   },
   {
    "duration": 714,
    "start_time": "2024-06-01T20:11:27.904Z"
   },
   {
    "duration": 832,
    "start_time": "2024-06-01T20:11:28.620Z"
   },
   {
    "duration": 4,
    "start_time": "2024-06-01T20:11:29.454Z"
   },
   {
    "duration": 26,
    "start_time": "2024-06-01T20:11:29.460Z"
   },
   {
    "duration": 6009,
    "start_time": "2024-06-01T20:11:29.488Z"
   },
   {
    "duration": 690,
    "start_time": "2024-06-01T20:11:35.499Z"
   },
   {
    "duration": 768,
    "start_time": "2024-06-01T20:11:36.191Z"
   },
   {
    "duration": 5,
    "start_time": "2024-06-01T20:11:36.961Z"
   },
   {
    "duration": 42127,
    "start_time": "2024-06-01T20:11:36.968Z"
   },
   {
    "duration": 506800,
    "start_time": "2024-06-01T20:12:19.097Z"
   },
   {
    "duration": 77100,
    "start_time": "2024-06-01T20:20:45.900Z"
   },
   {
    "duration": 275594,
    "start_time": "2024-06-01T20:22:03.003Z"
   },
   {
    "duration": 8076874,
    "start_time": "2024-06-01T20:26:38.599Z"
   },
   {
    "duration": 6344678,
    "start_time": "2024-06-01T22:41:15.475Z"
   },
   {
    "duration": 19,
    "start_time": "2024-06-02T00:27:00.155Z"
   },
   {
    "duration": 496621,
    "start_time": "2024-06-02T00:27:00.177Z"
   },
   {
    "duration": 3305,
    "start_time": "2024-06-02T10:22:33.320Z"
   },
   {
    "duration": 3200,
    "start_time": "2024-06-02T10:22:36.627Z"
   },
   {
    "duration": 3,
    "start_time": "2024-06-02T10:22:39.828Z"
   },
   {
    "duration": 57,
    "start_time": "2024-06-02T10:22:39.832Z"
   },
   {
    "duration": 9,
    "start_time": "2024-06-02T10:22:39.891Z"
   },
   {
    "duration": 29,
    "start_time": "2024-06-02T10:22:39.902Z"
   },
   {
    "duration": 3,
    "start_time": "2024-06-02T10:22:39.932Z"
   },
   {
    "duration": 11,
    "start_time": "2024-06-02T10:22:39.937Z"
   },
   {
    "duration": 8,
    "start_time": "2024-06-02T10:22:39.950Z"
   },
   {
    "duration": 2821,
    "start_time": "2024-06-02T10:22:39.959Z"
   },
   {
    "duration": 605012,
    "start_time": "2024-06-02T10:22:42.782Z"
   },
   {
    "duration": 10,
    "start_time": "2024-06-02T10:32:47.796Z"
   },
   {
    "duration": 18,
    "start_time": "2024-06-02T10:32:47.808Z"
   },
   {
    "duration": 4,
    "start_time": "2024-06-02T10:32:47.829Z"
   },
   {
    "duration": 15,
    "start_time": "2024-06-02T10:32:47.835Z"
   },
   {
    "duration": 44,
    "start_time": "2024-06-02T10:32:47.851Z"
   },
   {
    "duration": 4,
    "start_time": "2024-06-02T10:32:47.896Z"
   },
   {
    "duration": 25,
    "start_time": "2024-06-02T10:32:47.902Z"
   },
   {
    "duration": 5,
    "start_time": "2024-06-02T10:32:47.929Z"
   },
   {
    "duration": 4,
    "start_time": "2024-06-02T10:32:47.936Z"
   },
   {
    "duration": 3,
    "start_time": "2024-06-02T10:32:47.942Z"
   },
   {
    "duration": 6220,
    "start_time": "2024-06-02T10:32:47.947Z"
   },
   {
    "duration": 743,
    "start_time": "2024-06-02T10:32:54.169Z"
   },
   {
    "duration": 749,
    "start_time": "2024-06-02T10:32:54.914Z"
   },
   {
    "duration": 4,
    "start_time": "2024-06-02T10:32:55.665Z"
   },
   {
    "duration": 10,
    "start_time": "2024-06-02T10:32:55.670Z"
   },
   {
    "duration": 5941,
    "start_time": "2024-06-02T10:32:55.681Z"
   },
   {
    "duration": 809,
    "start_time": "2024-06-02T10:33:01.624Z"
   },
   {
    "duration": 835,
    "start_time": "2024-06-02T10:33:02.435Z"
   },
   {
    "duration": 4,
    "start_time": "2024-06-02T10:33:03.272Z"
   },
   {
    "duration": 7,
    "start_time": "2024-06-02T10:33:03.281Z"
   },
   {
    "duration": 3,
    "start_time": "2024-06-02T10:33:03.290Z"
   },
   {
    "duration": 6075,
    "start_time": "2024-06-02T10:33:03.294Z"
   },
   {
    "duration": 734,
    "start_time": "2024-06-02T10:33:09.371Z"
   },
   {
    "duration": 812,
    "start_time": "2024-06-02T10:33:10.107Z"
   },
   {
    "duration": 3,
    "start_time": "2024-06-02T10:33:10.921Z"
   },
   {
    "duration": 5,
    "start_time": "2024-06-02T10:33:10.926Z"
   },
   {
    "duration": 5985,
    "start_time": "2024-06-02T10:33:10.932Z"
   },
   {
    "duration": 700,
    "start_time": "2024-06-02T10:33:16.919Z"
   },
   {
    "duration": 673,
    "start_time": "2024-06-02T10:33:17.620Z"
   },
   {
    "duration": 4,
    "start_time": "2024-06-02T10:33:18.297Z"
   },
   {
    "duration": 41694,
    "start_time": "2024-06-02T10:33:18.302Z"
   },
   {
    "duration": 474584,
    "start_time": "2024-06-02T10:33:59.998Z"
   },
   {
    "duration": 71501,
    "start_time": "2024-06-02T10:41:54.583Z"
   },
   {
    "duration": 263107,
    "start_time": "2024-06-02T10:43:06.087Z"
   }
  ],
  "kernelspec": {
   "display_name": "Python 3 (ipykernel)",
   "language": "python",
   "name": "python3"
  },
  "language_info": {
   "codemirror_mode": {
    "name": "ipython",
    "version": 3
   },
   "file_extension": ".py",
   "mimetype": "text/x-python",
   "name": "python",
   "nbconvert_exporter": "python",
   "pygments_lexer": "ipython3",
   "version": "3.12.4"
  },
  "toc": {
   "base_numbering": 1,
   "nav_menu": {},
   "number_sections": true,
   "sideBar": true,
   "skip_h1_title": true,
   "title_cell": "Содержание",
   "title_sidebar": "Contents",
   "toc_cell": true,
   "toc_position": {
    "height": "calc(100% - 180px)",
    "left": "10px",
    "top": "150px",
    "width": "302.391px"
   },
   "toc_section_display": true,
   "toc_window_display": true
  }
 },
 "nbformat": 4,
 "nbformat_minor": 4
}
